{
 "cells": [
  {
   "cell_type": "markdown",
   "metadata": {
    "slideshow": {
     "slide_type": "slide"
    }
   },
   "source": [
    "# Funkcionalno programiranje\n",
    "\n",
    "Amer Hasanović"
   ]
  },
  {
   "cell_type": "markdown",
   "metadata": {
    "slideshow": {
     "slide_type": "slide"
    }
   },
   "source": [
    "## `Union` uzorak\n",
    "\n",
    "Format za uzorak je:\n",
    "\n",
    "```fsharp\n",
    "Constructor (pat1, pat2, ..., patn)\n",
    "```\n",
    "\n",
    "Gdje je:\n",
    "\n",
    "*  `Constructor` - neki od konstruktora unije sa čijom vrijednosti će se vršiti podudaranje.\n",
    "* `pat1`, `pat2`, ... `patn` - uzorak"
   ]
  },
  {
   "cell_type": "code",
   "execution_count": 2,
   "metadata": {
    "dotnet_interactive": {
     "language": "fsharp"
    },
    "polyglot_notebook": {
     "kernelName": "fsharp"
    },
    "slideshow": {
     "slide_type": "subslide"
    },
    "vscode": {
     "languageId": "polyglot-notebook"
    }
   },
   "outputs": [
    {
     "name": "stdout",
     "output_type": "stream",
     "text": [
      "Imate rezultat: 4\n",
      "Nažalost rezultata nema.\n"
     ]
    }
   ],
   "source": [
    "let foo  = function \n",
    "  | Some a -> printfn \"Imate rezultat: %A\" a\n",
    "  | None -> printfn \"Nažalost rezultata nema.\"\n",
    "\n",
    "Some 4 |> foo\n",
    "None |> foo"
   ]
  },
  {
   "cell_type": "markdown",
   "metadata": {
    "slideshow": {
     "slide_type": "slide"
    }
   },
   "source": [
    "Alterativno, ukoliko polja konstruktora imaju imena, format može biti:\n",
    "\n",
    "```fsharp\n",
    "Constructor (name1 = pat1; name2 = pat2; ..., namen = patn)\n",
    "```\n",
    "\n",
    "Gdje je:\n",
    "\n",
    "*  `Constructor` - neki od konstruktora unije sa čijom vrijednosti će se vršiti podudaranje.\n",
    "* `pat1`, `pat2`, ..., `patn` - uzorak\n",
    "* `name1`, `name2`, ..., `namen` - ime polja"
   ]
  },
  {
   "cell_type": "code",
   "execution_count": 3,
   "metadata": {
    "dotnet_interactive": {
     "language": "fsharp"
    },
    "polyglot_notebook": {
     "kernelName": "fsharp"
    },
    "slideshow": {
     "slide_type": "subslide"
    },
    "vscode": {
     "languageId": "polyglot-notebook"
    }
   },
   "outputs": [
    {
     "name": "stdout",
     "output_type": "stream",
     "text": [
      "[25, 8]\n",
      "(10)\n"
     ]
    }
   ],
   "source": [
    "type Oblik =\n",
    "  | Pravougaonik of visina: int * sirina : int \n",
    "  | Krug of precnik : int \n",
    "\n",
    "let sOblik = function \n",
    "  | Pravougaonik (sirina = s; visina = v) \n",
    "    -> sprintf \"[%d, %d]\" v s\n",
    "  | Krug r \n",
    "    -> sprintf \"(%d)\" r\n",
    "\n",
    "Pravougaonik (visina = 25, sirina = 8) \n",
    "   |> sOblik \n",
    "   |> printfn \"%s\"\n",
    "\n",
    "Krug 10 |> sOblik |> printfn \"%s\" "
   ]
  },
  {
   "cell_type": "markdown",
   "metadata": {
    "slideshow": {
     "slide_type": "slide"
    }
   },
   "source": [
    "## Polimorfne funkcije\n",
    "\n",
    "Funkcija može biti parametrizirana i tipovima, tzv **tipske varijable** (type varijable), i u tom slučaju kažemo da je funkcija polimorfna. \n",
    "\n",
    "Tipska varijabla: \n",
    "\n",
    "* reprezentira svaki validni `F#` tip,\n",
    "* navodi se u listi tipskih parametara nakon imena funkcije unutar `< >`\n",
    "\n",
    "Ime tipske varijable počinje sa simbolom **'**,"
   ]
  },
  {
   "cell_type": "markdown",
   "metadata": {
    "slideshow": {
     "slide_type": "subslide"
    }
   },
   "source": [
    "Eksplicitni format:\n",
    "\n",
    "```fsharp\n",
    "let fname<'t1,'t2,...,'tn,'tm> (pat1:'t1) (pat2:'t2) ... (patn:'tn) : 'tm= expr\n",
    "```\n",
    "\n",
    "Implicitni format:\n",
    "\n",
    "```fsharp\n",
    "let fname (pat1:'t1) (pat2:'t2) ... (patn:'tn) : 'tm = expr\n",
    "```\n",
    "\n",
    "\n"
   ]
  },
  {
   "cell_type": "markdown",
   "metadata": {
    "slideshow": {
     "slide_type": "subslide"
    }
   },
   "source": [
    "Kompajler će u procesu zaključivanja tipova pokušati generalizirani tip kao tipsku varijablu, ukoliko konstatuje da je to moguće.\n",
    "\n",
    "* Ova generalizacija se vrši ukoliko kompajler svjedoči da će funkcija moći raditi isto **za svaki** tip na mjestu tipske varijable ( tzv **parametric polymorphism** )"
   ]
  },
  {
   "cell_type": "code",
   "execution_count": 4,
   "metadata": {
    "dotnet_interactive": {
     "language": "fsharp"
    },
    "polyglot_notebook": {
     "kernelName": "fsharp"
    },
    "slideshow": {
     "slide_type": "subslide"
    },
    "vscode": {
     "languageId": "polyglot-notebook"
    }
   },
   "outputs": [],
   "source": [
    "let foo<'a, 'b> (a : 'a) (b : 'b) : 'b = b\n",
    "\n",
    "let bar (a : 'a) (b : 'b) : 'b = b\n",
    "\n",
    "let tar _ b = b\n"
   ]
  },
  {
   "cell_type": "markdown",
   "metadata": {
    "slideshow": {
     "slide_type": "subslide"
    }
   },
   "source": [
    "`F#` funkcija koja je polimorfna može uzeti **samo** monomorfnu funkciju kao parametar (tzv. **Rank-1 ili predicative polymorphism** )"
   ]
  },
  {
   "cell_type": "code",
   "execution_count": 5,
   "metadata": {
    "dotnet_interactive": {
     "language": "fsharp"
    },
    "polyglot_notebook": {
     "kernelName": "fsharp"
    },
    "slideshow": {
     "slide_type": "subslide"
    },
    "vscode": {
     "languageId": "polyglot-notebook"
    }
   },
   "outputs": [],
   "source": [
    "let foo f x y = (f x, f y)"
   ]
  },
  {
   "cell_type": "code",
   "execution_count": 6,
   "metadata": {
    "dotnet_interactive": {
     "language": "fsharp"
    },
    "polyglot_notebook": {
     "kernelName": "fsharp"
    },
    "slideshow": {
     "slide_type": "fragment"
    },
    "vscode": {
     "languageId": "polyglot-notebook"
    }
   },
   "outputs": [
    {
     "name": "stdout",
     "output_type": "stream",
     "text": [
      "('a', 'b')\n",
      "(3.5, -4.3)\n"
     ]
    }
   ],
   "source": [
    "foo id 'a' 'b' |> printfn \"%A\"\n",
    "foo id 3.5 -4.3 |> printfn \"%A\""
   ]
  },
  {
   "cell_type": "code",
   "execution_count": 7,
   "metadata": {
    "dotnet_interactive": {
     "language": "fsharp"
    },
    "polyglot_notebook": {
     "kernelName": "fsharp"
    },
    "slideshow": {
     "slide_type": "fragment"
    },
    "vscode": {
     "languageId": "polyglot-notebook"
    }
   },
   "outputs": [
    {
     "ename": "Error",
     "evalue": "input.fsx (1,12)-(1,13) typecheck error This expression was expected to have type\n    'char'    \nbut here has type\n    'int'    ",
     "output_type": "error",
     "traceback": [
      "input.fsx (1,12)-(1,13) typecheck error This expression was expected to have type\n",
      "    'char'    \n",
      "but here has type\n",
      "    'int'    "
     ]
    }
   ],
   "source": [
    "foo id 'a' 5 |> printfn \"%A\""
   ]
  },
  {
   "cell_type": "markdown",
   "metadata": {
    "slideshow": {
     "slide_type": "slide"
    }
   },
   "source": [
    "## Polimorfni tipovi\n",
    "\n",
    "`F#` algebarski tip može biti polimorfan ukoliko na mjestu tipa makar jednog od polja u tom tipu figurira tipska varijabla.\n",
    "\n",
    "Tipska varijabla: \n",
    "\n",
    "* reprezentira svaki validni `F#` tip,\n",
    "* navodi se u listi tipskih parametara kojim je parametriziran polimorfni tip unutar `< >`, i to nakon imena tipa.\n",
    "\n",
    "Ime tipske varijable počinje sa simbolom **'**,"
   ]
  },
  {
   "cell_type": "code",
   "execution_count": 8,
   "metadata": {
    "dotnet_interactive": {
     "language": "fsharp"
    },
    "polyglot_notebook": {
     "kernelName": "fsharp"
    },
    "slideshow": {
     "slide_type": "subslide"
    },
    "vscode": {
     "languageId": "polyglot-notebook"
    }
   },
   "outputs": [],
   "source": [
    "type Par<'a, 'b> = { first : 'a; second : 'b }\n",
    "\n",
    "let t = { first = 10; second = \"foobar\"}\n",
    "let p = { first = 2.5; second = true }"
   ]
  },
  {
   "cell_type": "code",
   "execution_count": 9,
   "metadata": {
    "dotnet_interactive": {
     "language": "fsharp"
    },
    "polyglot_notebook": {
     "kernelName": "fsharp"
    },
    "slideshow": {
     "slide_type": "subslide"
    },
    "vscode": {
     "languageId": "polyglot-notebook"
    }
   },
   "outputs": [],
   "source": [
    "type Rezultat<'a, 'b> = \n",
    "  | Uspjeh of 'a\n",
    "  | Greska of 'b\n",
    "\n",
    "let p = Uspjeh (2, 3)\n",
    "let t : Rezultat<int, string> = Uspjeh 5\n",
    "let k = Greska \"Pokusajte ponovo\""
   ]
  },
  {
   "cell_type": "markdown",
   "metadata": {
    "slideshow": {
     "slide_type": "subslide"
    }
   },
   "source": [
    "Tipska varijabla reprezentira uvijek monomorfni tip.\n",
    "\n",
    "* `F#` ne pruža način da polimorfni tip prilikom instanciranja uzme polimorfni tip na mjestu tipske varijable tzv **Rank-1 kind**."
   ]
  },
  {
   "cell_type": "code",
   "execution_count": 10,
   "metadata": {
    "dotnet_interactive": {
     "language": "fsharp"
    },
    "polyglot_notebook": {
     "kernelName": "fsharp"
    },
    "slideshow": {
     "slide_type": "fragment"
    },
    "vscode": {
     "languageId": "polyglot-notebook"
    }
   },
   "outputs": [],
   "source": [
    "type Foobar = Rezultat<int, Option<double>>"
   ]
  },
  {
   "cell_type": "code",
   "execution_count": 11,
   "metadata": {
    "dotnet_interactive": {
     "language": "fsharp"
    },
    "polyglot_notebook": {
     "kernelName": "fsharp"
    },
    "slideshow": {
     "slide_type": "fragment"
    },
    "vscode": {
     "languageId": "polyglot-notebook"
    }
   },
   "outputs": [
    {
     "ename": "Error",
     "evalue": "input.fsx (1,29)-(1,35) typecheck error The type 'Microsoft.FSharp.Core.Option<_>' expects 1 type argument(s) but is given 0\ninput.fsx (1,29)-(1,35) typecheck error The type 'Microsoft.FSharp.Core.Option<_>' expects 1 type argument(s) but is given 0",
     "output_type": "error",
     "traceback": [
      "input.fsx (1,29)-(1,35) typecheck error The type 'Microsoft.FSharp.Core.Option<_>' expects 1 type argument(s) but is given 0\n",
      "input.fsx (1,29)-(1,35) typecheck error The type 'Microsoft.FSharp.Core.Option<_>' expects 1 type argument(s) but is given 0"
     ]
    }
   ],
   "source": [
    "type Tarbar = Rezultat<int, Option>"
   ]
  },
  {
   "cell_type": "markdown",
   "metadata": {
    "slideshow": {
     "slide_type": "slide"
    }
   },
   "source": [
    "## Rekurzivni tipovi\n",
    "\n",
    "Prilikom definicije tipa koji je algebarska unija `F#` omogućava upotrebu tog tipa na mjestu tipa nekog od polja njegovih članova. \n",
    "\n",
    "* Za takav tip kažemo da je **rekurzivan**."
   ]
  },
  {
   "cell_type": "code",
   "execution_count": 12,
   "metadata": {
    "dotnet_interactive": {
     "language": "fsharp"
    },
    "polyglot_notebook": {
     "kernelName": "fsharp"
    },
    "slideshow": {
     "slide_type": "subslide"
    },
    "vscode": {
     "languageId": "polyglot-notebook"
    }
   },
   "outputs": [],
   "source": [
    "type Lista<'a> =\n",
    "  | Kraj \n",
    "  | Element of 'a * Lista<'a>"
   ]
  },
  {
   "cell_type": "code",
   "execution_count": 13,
   "metadata": {
    "dotnet_interactive": {
     "language": "fsharp"
    },
    "polyglot_notebook": {
     "kernelName": "fsharp"
    },
    "slideshow": {
     "slide_type": "fragment"
    },
    "vscode": {
     "languageId": "polyglot-notebook"
    }
   },
   "outputs": [
    {
     "name": "stdout",
     "output_type": "stream",
     "text": [
      "Element (2, Element (1, Element (4, Element (8, Kraj))))\n"
     ]
    }
   ],
   "source": [
    "let t = Element (2, Element( 1, Element( 4, Element(8, Kraj))))\n",
    "\n",
    "t |> printfn \"%A\""
   ]
  },
  {
   "cell_type": "code",
   "execution_count": 14,
   "metadata": {
    "dotnet_interactive": {
     "language": "fsharp"
    },
    "polyglot_notebook": {
     "kernelName": "fsharp"
    },
    "slideshow": {
     "slide_type": "subslide"
    },
    "vscode": {
     "languageId": "polyglot-notebook"
    }
   },
   "outputs": [],
   "source": [
    "let pushFront e l = Element (e, l)\n",
    "\n",
    "let (@@) = pushFront\n",
    "\n",
    "let t' : Lista<int> = 2 @@ 1 @@ 4 @@ 8 @@ Kraj\n",
    "\n",
    "let t'' : List<int> = 2 :: 1 :: 4 :: 8 :: []\n",
    "\n",
    "let t''' : List<int> = [2; 1; 4; 8]"
   ]
  },
  {
   "cell_type": "code",
   "execution_count": 15,
   "metadata": {
    "dotnet_interactive": {
     "language": "fsharp"
    },
    "polyglot_notebook": {
     "kernelName": "fsharp"
    },
    "slideshow": {
     "slide_type": "fragment"
    },
    "vscode": {
     "languageId": "polyglot-notebook"
    }
   },
   "outputs": [
    {
     "name": "stdout",
     "output_type": "stream",
     "text": [
      "Element (2, Element (1, Element (4, Element (8, Kraj))))\n",
      "[2; 1; 4; 8]\n"
     ]
    }
   ],
   "source": [
    "t' |> printfn \"%A\"\n",
    "t'' |> printfn \"%A\""
   ]
  },
  {
   "cell_type": "markdown",
   "metadata": {
    "slideshow": {
     "slide_type": "subslide"
    }
   },
   "source": [
    "```fsharp\n",
    "isEmpty : Lista<'a> -> bool\n",
    "```"
   ]
  },
  {
   "cell_type": "code",
   "execution_count": 16,
   "metadata": {
    "dotnet_interactive": {
     "language": "fsharp"
    },
    "polyglot_notebook": {
     "kernelName": "fsharp"
    },
    "slideshow": {
     "slide_type": "fragment"
    },
    "vscode": {
     "languageId": "polyglot-notebook"
    }
   },
   "outputs": [],
   "source": [
    "let isEmpty = function \n",
    "  | Kraj -> true\n",
    "  | _ -> false"
   ]
  },
  {
   "cell_type": "markdown",
   "metadata": {
    "slideshow": {
     "slide_type": "subslide"
    }
   },
   "source": [
    "```fsharp\n",
    "head : Lista<'a> -> 'a\n",
    "tail : Lista<'a> -> Lista<'a>\n",
    "```"
   ]
  },
  {
   "cell_type": "code",
   "execution_count": 17,
   "metadata": {
    "dotnet_interactive": {
     "language": "fsharp"
    },
    "polyglot_notebook": {
     "kernelName": "fsharp"
    },
    "slideshow": {
     "slide_type": "fragment"
    },
    "vscode": {
     "languageId": "polyglot-notebook"
    }
   },
   "outputs": [],
   "source": [
    "let head = function\n",
    "  | Element(e, xs) -> e\n",
    "  | _ -> raise (System.ArgumentException \"The input list was empty\")\n",
    "\n",
    "let tail = function\n",
    "  | Element(e, xs) -> xs\n",
    "  | _ -> raise (System.ArgumentException \"The input list was empty\")"
   ]
  },
  {
   "cell_type": "markdown",
   "metadata": {
    "slideshow": {
     "slide_type": "subslide"
    }
   },
   "source": [
    "```fsharp\n",
    "head' : Lista<'a> -> Option<'a>\n",
    "tail' : Lista<'a> -> Option< Lista<'a> >\n",
    "```"
   ]
  },
  {
   "cell_type": "code",
   "execution_count": 18,
   "metadata": {
    "dotnet_interactive": {
     "language": "fsharp"
    },
    "polyglot_notebook": {
     "kernelName": "fsharp"
    },
    "slideshow": {
     "slide_type": "fragment"
    },
    "vscode": {
     "languageId": "polyglot-notebook"
    }
   },
   "outputs": [],
   "source": [
    "let head' = function \n",
    "  | Element(e, xs) -> Some e\n",
    "  | Kraj -> None\n",
    "\n",
    "let tail' = function \n",
    "  | Element(e, xs) -> Some xs\n",
    "  | Kraj -> None"
   ]
  },
  {
   "cell_type": "markdown",
   "metadata": {
    "slideshow": {
     "slide_type": "subslide"
    }
   },
   "source": [
    "```fsharp\n",
    "map : ('a -> 'b) -> Lista<'a> -> Lista<'b>\n",
    "```"
   ]
  },
  {
   "cell_type": "code",
   "execution_count": 19,
   "metadata": {
    "dotnet_interactive": {
     "language": "fsharp"
    },
    "polyglot_notebook": {
     "kernelName": "fsharp"
    },
    "slideshow": {
     "slide_type": "fragment"
    },
    "vscode": {
     "languageId": "polyglot-notebook"
    }
   },
   "outputs": [],
   "source": [
    "let rec map f l =\n",
    "  match l with \n",
    "  | Kraj -> Kraj\n",
    "  | Element (e, xs) -> Element ( f e, map f xs )"
   ]
  },
  {
   "cell_type": "markdown",
   "metadata": {
    "slideshow": {
     "slide_type": "subslide"
    }
   },
   "source": [
    "```fsharp\n",
    "foldl : ('a -> 'e -> 'a) -> 'a -> Lista<'e> -> 'a \n",
    "```"
   ]
  },
  {
   "cell_type": "code",
   "execution_count": 20,
   "metadata": {
    "dotnet_interactive": {
     "language": "fsharp"
    },
    "polyglot_notebook": {
     "kernelName": "fsharp"
    },
    "slideshow": {
     "slide_type": "fragment"
    },
    "vscode": {
     "languageId": "polyglot-notebook"
    }
   },
   "outputs": [],
   "source": [
    "let rec foldl f a l = \n",
    "  match l with \n",
    "  | Kraj -> a\n",
    "  | Element(e, xs) -> foldl f (f a e) xs"
   ]
  },
  {
   "cell_type": "markdown",
   "metadata": {
    "slideshow": {
     "slide_type": "subslide"
    }
   },
   "source": [
    "```fsharp\n",
    "length : Lista<'a> -> int\n",
    "suma : Lista<int> -> int\n",
    "proizvod : Lista <int> -> int\n",
    "```"
   ]
  },
  {
   "cell_type": "code",
   "execution_count": 21,
   "metadata": {
    "dotnet_interactive": {
     "language": "fsharp"
    },
    "polyglot_notebook": {
     "kernelName": "fsharp"
    },
    "slideshow": {
     "slide_type": "fragment"
    },
    "vscode": {
     "languageId": "polyglot-notebook"
    }
   },
   "outputs": [],
   "source": [
    "let length l = foldl (fun a _ -> a + 1) 0 l\n",
    "let suma l = foldl (+) 0 l\n",
    "let proizvod l = foldl (*) 1 l"
   ]
  },
  {
   "cell_type": "markdown",
   "metadata": {
    "slideshow": {
     "slide_type": "subslide"
    }
   },
   "source": [
    "```fsharp\n",
    "toStr : Lista<'a> -> string\n",
    "```"
   ]
  },
  {
   "cell_type": "code",
   "execution_count": 22,
   "metadata": {
    "dotnet_interactive": {
     "language": "fsharp"
    },
    "polyglot_notebook": {
     "kernelName": "fsharp"
    },
    "slideshow": {
     "slide_type": "fragment"
    },
    "vscode": {
     "languageId": "polyglot-notebook"
    }
   },
   "outputs": [],
   "source": [
    "let toStr l = \n",
    "   l |> map ( fun e -> sprintf \"%A \" e ) \n",
    "     |> foldl ( fun a e -> a + e ) \"\"\n",
    "     |> ( fun s -> \"[ \" + s + \"]\")\n"
   ]
  },
  {
   "cell_type": "markdown",
   "metadata": {
    "slideshow": {
     "slide_type": "subslide"
    }
   },
   "source": [
    "```fsharp\n",
    "reverse : Lista<'a> -> Lista<'a>\n",
    "```"
   ]
  },
  {
   "cell_type": "code",
   "execution_count": 23,
   "metadata": {
    "dotnet_interactive": {
     "language": "fsharp"
    },
    "polyglot_notebook": {
     "kernelName": "fsharp"
    },
    "slideshow": {
     "slide_type": "fragment"
    },
    "vscode": {
     "languageId": "polyglot-notebook"
    }
   },
   "outputs": [],
   "source": [
    "let reverse l =\n",
    "  let rec loop a = function \n",
    "    | Kraj -> a\n",
    "    | Element(e, xs) -> loop (Element (e, a)) xs\n",
    "  loop Kraj l\n",
    "\n"
   ]
  },
  {
   "cell_type": "code",
   "execution_count": 24,
   "metadata": {
    "dotnet_interactive": {
     "language": "fsharp"
    },
    "polyglot_notebook": {
     "kernelName": "fsharp"
    },
    "slideshow": {
     "slide_type": "fragment"
    },
    "vscode": {
     "languageId": "polyglot-notebook"
    }
   },
   "outputs": [
    {
     "data": {
      "text/html": [
       "<div class=\"dni-plaintext\"><pre>True</pre></div><style>\r\n",
       ".dni-code-hint {\r\n",
       "    font-style: italic;\r\n",
       "    overflow: hidden;\r\n",
       "    white-space: nowrap;\r\n",
       "}\r\n",
       ".dni-treeview {\r\n",
       "    white-space: nowrap;\r\n",
       "}\r\n",
       ".dni-treeview td {\r\n",
       "    vertical-align: top;\r\n",
       "    text-align: start;\r\n",
       "}\r\n",
       "details.dni-treeview {\r\n",
       "    padding-left: 1em;\r\n",
       "}\r\n",
       "table td {\r\n",
       "    text-align: start;\r\n",
       "}\r\n",
       "table tr { \r\n",
       "    vertical-align: top; \r\n",
       "    margin: 0em 0px;\r\n",
       "}\r\n",
       "table tr td pre \r\n",
       "{ \r\n",
       "    vertical-align: top !important; \r\n",
       "    margin: 0em 0px !important;\r\n",
       "} \r\n",
       "table th {\r\n",
       "    text-align: start;\r\n",
       "}\r\n",
       "</style>"
      ]
     },
     "metadata": {},
     "output_type": "display_data"
    }
   ],
   "source": [
    "let reverse' l = foldl ( fun a e -> Element (e, a) ) Kraj l \n",
    "\n",
    "reverse t = reverse' t"
   ]
  },
  {
   "cell_type": "markdown",
   "metadata": {
    "slideshow": {
     "slide_type": "subslide"
    }
   },
   "source": [
    "```fsharp\n",
    "(+++) : Lista<'a> -> Lista<'a> -> Lista<'a>\n",
    "```"
   ]
  },
  {
   "cell_type": "code",
   "execution_count": 25,
   "metadata": {
    "dotnet_interactive": {
     "language": "fsharp"
    },
    "polyglot_notebook": {
     "kernelName": "fsharp"
    },
    "slideshow": {
     "slide_type": "fragment"
    },
    "vscode": {
     "languageId": "polyglot-notebook"
    }
   },
   "outputs": [],
   "source": [
    "let (+++) l1 l2 = \n",
    "  foldl ( fun a e -> Element (e, a) ) l2 (reverse l1)\n",
    "\n",
    "let tt = t +++ t\n"
   ]
  },
  {
   "cell_type": "markdown",
   "metadata": {
    "slideshow": {
     "slide_type": "subslide"
    }
   },
   "source": [
    "```fsharp\n",
    "zipWith : ('a -> 'b -> 'c) -> Lista<'a> -> Lista<'b> -> Lista<'c>\n",
    "zip : Lista<'a> -> Lista<'b> -> Lista<'a*'b>\n",
    "```"
   ]
  },
  {
   "cell_type": "code",
   "execution_count": 26,
   "metadata": {
    "dotnet_interactive": {
     "language": "fsharp"
    },
    "polyglot_notebook": {
     "kernelName": "fsharp"
    },
    "slideshow": {
     "slide_type": "fragment"
    },
    "vscode": {
     "languageId": "polyglot-notebook"
    }
   },
   "outputs": [],
   "source": [
    "let rec zipWith f l1 l2 = \n",
    "  match (l1, l2) with\n",
    "  | (Kraj, _) \n",
    "    -> Kraj\n",
    "  | (_, Kraj) \n",
    "    -> Kraj\n",
    "  | ( Element (a1, xs1), Element (a2, xs2) ) \n",
    "    -> Element ( f a1 a2, zipWith f xs1 xs2 )\n",
    "\n",
    "let zip l1 l2 = zipWith ( fun e1 e2 -> (e1, e2) ) l2 l2\n",
    "\n",
    "let t1 = zip t t "
   ]
  },
  {
   "cell_type": "markdown",
   "metadata": {
    "slideshow": {
     "slide_type": "subslide"
    }
   },
   "source": [
    "```fsharp\n",
    "drop : int -> Lista<'a> -> Lista<'a>\n",
    "```"
   ]
  },
  {
   "cell_type": "code",
   "execution_count": 27,
   "metadata": {
    "dotnet_interactive": {
     "language": "fsharp"
    },
    "polyglot_notebook": {
     "kernelName": "fsharp"
    },
    "slideshow": {
     "slide_type": "fragment"
    },
    "vscode": {
     "languageId": "polyglot-notebook"
    }
   },
   "outputs": [],
   "source": [
    "let rec drop n foo = \n",
    "   match (n, foo) with \n",
    "   | (0, xs) -> xs\n",
    "   | (_, Kraj) -> Kraj\n",
    "   | (n', Element (_, xs)) -> drop (n'-1) xs"
   ]
  },
  {
   "cell_type": "markdown",
   "metadata": {
    "slideshow": {
     "slide_type": "subslide"
    }
   },
   "source": [
    "```fsharp\n",
    "take : int -> Lista<'a> -> Lista<'a>\n",
    "```"
   ]
  },
  {
   "cell_type": "code",
   "execution_count": 28,
   "metadata": {
    "dotnet_interactive": {
     "language": "fsharp"
    },
    "polyglot_notebook": {
     "kernelName": "fsharp"
    },
    "slideshow": {
     "slide_type": "fragment"
    },
    "vscode": {
     "languageId": "polyglot-notebook"
    }
   },
   "outputs": [],
   "source": [
    "let rec take n l = \n",
    "  let rec loop a n' l' =\n",
    "     match (n', l') with \n",
    "     | (0, xs) -> a\n",
    "     | (_, Kraj) -> Kraj\n",
    "     | (n'', Element (e, xs)) -> loop (Element (e, a)) (n''-1) xs\n",
    "  loop Kraj n l |> reverse\n"
   ]
  }
 ],
 "metadata": {
  "language_info": {
   "name": "fsharp"
  },
  "orig_nbformat": 4
 },
 "nbformat": 4,
 "nbformat_minor": 2
}
