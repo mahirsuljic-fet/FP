{
 "cells": [
  {
   "cell_type": "markdown",
   "metadata": {
    "slideshow": {
     "slide_type": "slide"
    }
   },
   "source": [
    "# Funkcionalno programiranje\n",
    "\n",
    "Amer Hasanović"
   ]
  },
  {
   "cell_type": "markdown",
   "metadata": {
    "slideshow": {
     "slide_type": "slide"
    }
   },
   "source": [
    "## Organizacija koda\n",
    "\n",
    "`F#` kod se zapisuje u tekstualne fajlove sa sljedećim ekstenzijama:\n",
    "\n",
    "* `fs` - kod koji će se kompajlirati u `F#` projektima,\n",
    "* `fsx` - skripte koje će se izvršavati bez prethodnog kompajliranja\n",
    "  * mogu koristiti kod iz drugih fajlova pomoću direktive:\n",
    "\n",
    "      ```fsharp\n",
    "      #load \"imefajla.fs\"\n",
    "      ```"
   ]
  },
  {
   "cell_type": "markdown",
   "metadata": {
    "slideshow": {
     "slide_type": "subslide"
    }
   },
   "source": [
    "Skripte mogu koristiti kod iz drugih fajlova pomoću direktive `load`:\n",
    "\n",
    "```fsharp\n",
    "#load \"imefajla.fs\"\n",
    "```"
   ]
  },
  {
   "cell_type": "markdown",
   "metadata": {
    "slideshow": {
     "slide_type": "subslide"
    }
   },
   "source": [
    "Skripte se mogu istovremeno kompajlirati i pokretati u formi:\n",
    "\n",
    "```text\n",
    "dotnet fsi ime_skripte.fsx\n",
    "```\n",
    "\n",
    "* Ukoliko se u gornjoj komandi izostavi ime skripte, pokreće se interaktivno okruženje za unos `F#` koda, tzv **repl**."
   ]
  },
  {
   "cell_type": "markdown",
   "metadata": {
    "slideshow": {
     "slide_type": "subslide"
    }
   },
   "source": [
    "`F#` kod zapisan u fajlovima koji se bavi istim ili sličnim konceptima, radi smanjivanja vjerovatnoće konflikata u imenima, grupiše se u kohezivne cjeline i to:\n",
    "\n",
    "* `namespace`\n",
    "* `module`"
   ]
  },
  {
   "cell_type": "markdown",
   "metadata": {
    "slideshow": {
     "slide_type": "slide"
    }
   },
   "source": [
    "## `namespace`\n",
    "\n",
    "Predstavlja kontejner za kod koji može da sadrži:\n",
    "* `namespace`,\n",
    "* `module`, \n",
    "*  tipove\n"
   ]
  },
  {
   "cell_type": "markdown",
   "metadata": {
    "slideshow": {
     "slide_type": "subslide"
    }
   },
   "source": [
    "Namespace se može kreirate i/ili otvoriti u sljedećem formatu:\n",
    "\n",
    "```fsharp\n",
    "namespace ns_ime\n",
    "```\n",
    "\n",
    "* Sav kod unutar jednog fajla, od gornje deklaracije, do nove `namespace` deklaracije, pripada `ns_ime` namespace-u.\n"
   ]
  },
  {
   "cell_type": "markdown",
   "metadata": {
    "slideshow": {
     "slide_type": "subslide"
    }
   },
   "source": [
    "\n",
    "Namespace je otvoren, što znači da svaki fajl može dodavati novi sadržaj u namespace ponovnim korištenjem `namespace` deklaracije.\n",
    "\n",
    "* Prvo otvaranje namespace-a predstavlja njegovo kreiranje."
   ]
  },
  {
   "cell_type": "markdown",
   "metadata": {
    "slideshow": {
     "slide_type": "subslide"
    }
   },
   "source": [
    "Kod unutar `namespace` deklaracije se ne indentira."
   ]
  },
  {
   "cell_type": "markdown",
   "metadata": {
    "slideshow": {
     "slide_type": "subslide"
    }
   },
   "source": [
    "Namespace može biti ugnježden u drugi namespace, pri čemu se imenuje na način:\n",
    "\n",
    "```fsharp\n",
    "namespace parent_ns.child_ns\n",
    "```\n",
    "\n",
    "* `child_ns` - je ime ugnježdenog namespace-a"
   ]
  },
  {
   "cell_type": "markdown",
   "metadata": {
    "slideshow": {
     "slide_type": "subslide"
    }
   },
   "source": [
    "Simboli iz nekog namespace-a mogu se koristiti u drugom namespace-u korištenjem kvalifikovanog imena simbola koje uključuju i ime namespace-a u kojem je simbol definiran.\n",
    "\n",
    "* U kvalifikovanom imenu između imena namespace kojem simbol pripada i imena simbola stavlja se `.`"
   ]
  },
  {
   "cell_type": "markdown",
   "metadata": {
    "slideshow": {
     "slide_type": "subslide"
    }
   },
   "source": [
    "Simboli iz jednog namespace-a mogu se referencirati direktno u drugom namespace-u uz prethodnu deklaracije `open` u formatu:\n",
    "\n",
    "```fsharp\n",
    "open ns1\n",
    "```\n",
    "\n",
    "* `ns1` je ime namespace čiji simboli će se referencirati bez potpune kvalifikacije u trenutnom namespace-u."
   ]
  },
  {
   "cell_type": "markdown",
   "metadata": {
    "slideshow": {
     "slide_type": "subslide"
    }
   },
   "source": [
    "U slučaju da dođe do konflikta prilikom nekvalifikovane upotrebe  simbola koji je definiran u dva namespace-a koji su otvoreni sa `open` deklaracijom, kompajler bira zadnje viđeno ime."
   ]
  },
  {
   "cell_type": "markdown",
   "metadata": {
    "slideshow": {
     "slide_type": "subslide"
    }
   },
   "source": [
    "```fsharp\n",
    "// fajl Foo.fs\n",
    "namespace Foo\n",
    "type Tar = A | B\n",
    "\n",
    "namespace Foo.Bar\n",
    "type Foobar = C | D\n",
    "\n",
    "namespace Test\n",
    "type Tar = { name : string; age : int }\n",
    "\n"
   ]
  },
  {
   "cell_type": "markdown",
   "metadata": {
    "slideshow": {
     "slide_type": "fragment"
    }
   },
   "source": [
    "```fsharp\n",
    "// fajl script1.fsx\n",
    "#load \"Foo.fs\"\n",
    "let a : Foo.Tar = Foo.A \n",
    "let t : Foo.Bar.Foobar = Foo.Bar.C\n",
    "let k : Test.Tar = { name = \"foo\"; age = 23 }"
   ]
  },
  {
   "cell_type": "markdown",
   "metadata": {
    "slideshow": {
     "slide_type": "subslide"
    }
   },
   "source": [
    "```fsharp\n",
    "// fajl script2.fsx\n",
    "#load \"Foo.fs\"\n",
    "\n",
    "open Test\n",
    "open Foo\n",
    "\n",
    "let t : Tar = A\n",
    "let b : Test.Tar = { name = \"foo\"; age = 80 }\n",
    "\n"
   ]
  },
  {
   "cell_type": "markdown",
   "metadata": {
    "slideshow": {
     "slide_type": "slide"
    }
   },
   "source": [
    "\n",
    "## `module`\n",
    "\n",
    "Predstavlja kontejner za kod koji može da sadrži:\n",
    "\n",
    "* `module`,\n",
    "* tipove,\n",
    "* varijable"
   ]
  },
  {
   "cell_type": "markdown",
   "metadata": {
    "slideshow": {
     "slide_type": "subslide"
    }
   },
   "source": [
    "Modul može biti:\n",
    "\n",
    "* top level \n",
    "  * može se definirati samo na početku fajla i sadrži cijeli fajl\n",
    "  * kod koji pripada modulu se ne indentira.\n",
    "* local\n",
    "  * kod koji pripada modulu se indentira."
   ]
  },
  {
   "cell_type": "markdown",
   "metadata": {
    "slideshow": {
     "slide_type": "subslide"
    }
   },
   "source": [
    "Top level modul deklaracija:\n",
    "\n",
    "```fsharp\n",
    "// početak fajla\n",
    "module Foobar\n",
    "// sadržaj modula\n",
    "```"
   ]
  },
  {
   "cell_type": "markdown",
   "metadata": {},
   "source": [
    "Local modul deklaracija:\n",
    "\n",
    "```fsharp\n",
    "// bilo gdje u fajlu\n",
    "module Foobar = \n",
    "  // sadržaj modula\n",
    "```"
   ]
  },
  {
   "cell_type": "markdown",
   "metadata": {
    "slideshow": {
     "slide_type": "subslide"
    }
   },
   "source": [
    "Top level modul se prilikom deklaracije može ubaciti u namespace u sljedećem formatu:\n",
    "\n",
    "```fsharp\n",
    "// početak fajla\n",
    "module ns_ime.module_ime\n",
    "// sadržaj modula\n",
    "```"
   ]
  },
  {
   "cell_type": "markdown",
   "metadata": {
    "slideshow": {
     "slide_type": "subslide"
    }
   },
   "source": [
    "Ukoliko se `F#` projekat sastoji od jednog fajla, a njegov sadržaj nije eksplicitno postavljen unutar nekog modula i namespace-a, kompajler će implicitno na osnovu imena fajla kreirati top level modul. \n",
    "\n",
    "```fsharp\n",
    "// fajl foobar.fs\n",
    "let foo = 5\n",
    "```\n",
    "\n",
    "isto kao:\n",
    "\n",
    "```fsharp\n",
    "// fajl foobar.fs\n",
    "module Foobar\n",
    "let foo = 5\n",
    "```"
   ]
  },
  {
   "cell_type": "markdown",
   "metadata": {
    "slideshow": {
     "slide_type": "subslide"
    }
   },
   "source": [
    "Ukoliko se `F#` projekat sastoji od više fajlova, na početku svakog fajla mora biti ili deklaracija namespace-a ili top level module-a.\n"
   ]
  },
  {
   "cell_type": "markdown",
   "metadata": {
    "slideshow": {
     "slide_type": "subslide"
    }
   },
   "source": [
    "Slično kao za namespace, simboli iz modula mogu se koristiti u drugim modulima kroz kvalificiran pristup,  ili direktno, uz prethodnu upotrebu `open` deklaracije.\n",
    "\n",
    "Za razliku od namespace-a, moduli mogu imati kod samo u jednom fajlu.\n"
   ]
  },
  {
   "cell_type": "markdown",
   "metadata": {
    "slideshow": {
     "slide_type": "subslide"
    }
   },
   "source": [
    "Modul može biti automatski otvoren kada se otvori modul ili namespace u kojim je ugnježden, ukoliko se prilikom deklaracije modula koristi atribut `AutoOpen`.\n",
    "\n",
    "```fsharp\n",
    "module TopL\n",
    "\n",
    "[<AutoOpen>]\n",
    "module Local1 = \n",
    "  // sadržaj\n",
    "```"
   ]
  },
  {
   "cell_type": "markdown",
   "metadata": {
    "slideshow": {
     "slide_type": "subslide"
    }
   },
   "source": [
    "```fsharp\n",
    "// fajl ex.fs\n",
    "namespace Example\n",
    "type PersonType = {First:string; Last:string}\n",
    "\n",
    "module Person =\n",
    "    let create first last =\n",
    "        {First=first; Last=last}\n",
    "\n",
    "    let fullName {First=first; Last=last} =\n",
    "        first + \" \" + last\n",
    "\n",
    "```"
   ]
  },
  {
   "cell_type": "markdown",
   "metadata": {},
   "source": [
    "```fsharp\n",
    "// fajl prog.fsx\n",
    "#load \"ex.fs\"\n",
    "\n",
    "let foo \n",
    "    = Example.Person.create \"foo\" \"bar\"\n",
    "```"
   ]
  },
  {
   "cell_type": "markdown",
   "metadata": {
    "slideshow": {
     "slide_type": "slide"
    }
   },
   "source": [
    "## Upravljanje projektima\n",
    "\n",
    "`F#` fajlovi se grupišu u projekte različite namjene, npr:\n",
    "\n",
    "* terminal aplikacija, tzv console projekat\n",
    "* biblioteka, tzv classlib projekat\n"
   ]
  },
  {
   "cell_type": "markdown",
   "metadata": {
    "slideshow": {
     "slide_type": "subslide"
    }
   },
   "source": [
    "Kompajliranjem i uvezivanjem fajlova koji pripadaju projektu nastaju  **Assemblies**:\n",
    "\n",
    "* fajlovi koje može koristiti `dotNet` virtuelna mašina za izvršavanje `dotNet` programa, (sadrže bytecode)\n",
    "* imaju ekstenziju `dll`"
   ]
  },
  {
   "cell_type": "markdown",
   "metadata": {
    "slideshow": {
     "slide_type": "subslide"
    }
   },
   "source": [
    "Projekti se mogu radi lakšeg upravljanja i kompajliranja grupisati u koncept `Solution`"
   ]
  },
  {
   "cell_type": "markdown",
   "metadata": {},
   "source": [
    "```bash\n",
    "dotnet new classlib --language F# -n lib1\n",
    "dotnet new classlib --language F# -n lib2\n",
    "dotnet new console --language F# -n app\n",
    "dotnet add app/app.fsproj reference lib1/lib1.fsproj\n",
    "dotnet add app/app.fsproj reference lib2/lib2.fsproj\n",
    "dotnet new sln -n coolapp\n",
    "dotnet sln add app/app.fsproj\n",
    "dotnet sln add lib1/lib1.fsproj\n",
    "dotnet sln add lib2/lib2.fsproj\n",
    "```"
   ]
  }
 ],
 "metadata": {
  "language_info": {
   "name": "fsharp"
  },
  "orig_nbformat": 4
 },
 "nbformat": 4,
 "nbformat_minor": 2
}
