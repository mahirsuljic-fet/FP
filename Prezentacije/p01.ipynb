{
 "cells": [
  {
   "cell_type": "markdown",
   "metadata": {
    "slideshow": {
     "slide_type": "slide"
    }
   },
   "source": [
    "# Funkcionalno programiranje\n",
    "\n",
    "Amer Hasanović"
   ]
  },
  {
   "cell_type": "markdown",
   "metadata": {
    "slideshow": {
     "slide_type": "slide"
    }
   },
   "source": [
    "## Osnovne informacije\n",
    "\n",
    "Kontakt:\n",
    "\n",
    "* Stelekt, Kancelarija 2\n",
    "* email: `amer.hasanovic@fet.ba` \n",
    "\n",
    "Predmetni asistent:\n",
    "\n",
    "* Mirza Sakić"
   ]
  },
  {
   "cell_type": "markdown",
   "metadata": {
    "slideshow": {
     "slide_type": "slide"
    }
   },
   "source": [
    "## Preduslovi\n",
    "\n",
    "Preduslovi za slušanje predmeta su ostvareni `ECTS` krediti iz predmeta:\n",
    "\n",
    "* Strukture podataka\n"
   ]
  },
  {
   "cell_type": "markdown",
   "metadata": {
    "slideshow": {
     "slide_type": "slide"
    }
   },
   "source": [
    "## Ciljevi \n",
    "\n",
    "Nakon završenog kursa, studenti će:\n",
    "\n",
    "* poznavati tehnike za pisanje programa u deklarativnoj formi uz upotrebu nepromjenjivih struktura\n",
    "podataka (immutable data),\n",
    "* biti sposobni da modeliraju jednostavne i umjereno komplikovane domene upotrebom fukcionalnih\n",
    "tipova,\n",
    "* savladati principe implementacije programske logike definiranjem i kompozicijom čistih funkcija,\n",
    "* znati eksplicitno tretirati nečiste proračune,\n",
    "* savladati osnovne aspekte funkcionalih programskih jezika `Haskell` ili `F#`"
   ]
  },
  {
   "cell_type": "markdown",
   "metadata": {
    "slideshow": {
     "slide_type": "slide"
    }
   },
   "source": [
    "## Plan\n",
    "\n",
    "* Izrazi, tipovi i vrijednosti\n",
    "* Liste i operacije na listama\n",
    "* Rekurzivne funkcije\n",
    "* Dekompozicija vrijednosti i podudaranje uzoraka (pattern matching)\n",
    "* Parcijalna aplikacija i currying"
   ]
  },
  {
   "cell_type": "markdown",
   "metadata": {
    "slideshow": {
     "slide_type": "subslide"
    }
   },
   "source": [
    "* Funkcije višeg reda\n",
    "* Kompozicija funkcija\n",
    "* Polimorfne fukcije\n",
    "* Polimorfni tipovi\n",
    "* Rekurzivni tipovi\n",
    "* Moduli\n",
    "* Lambda izrazi\n",
    "* Tretman nedeterminističnog proračuna."
   ]
  },
  {
   "cell_type": "markdown",
   "metadata": {
    "slideshow": {
     "slide_type": "slide"
    }
   },
   "source": [
    "## Literatura\n",
    "\n",
    "* Michael R. Hansen, Hans Rischel, \"Functional programming using F#\", Cambridge University Press, 2013\n",
    "* Don Syme , Adam Granicz , Antonio Cisternino, \"Expert F#\", Apress, 2015"
   ]
  },
  {
   "cell_type": "markdown",
   "metadata": {
    "slideshow": {
     "slide_type": "slide"
    }
   },
   "source": [
    "## Softver \n",
    "\n",
    "* `F#` `.NET` za `Linux`\n",
    "* `vscode` i `nvim` editori"
   ]
  },
  {
   "cell_type": "markdown",
   "metadata": {
    "slideshow": {
     "slide_type": "slide"
    }
   },
   "source": [
    "## Organizacija\n",
    "\n",
    "Od studenata se očekuje da rade uporedo sa predavanjima.\n",
    "\n",
    "Na osnovu predavanja i vježbi kreirat će se zadaće:\n",
    "\n",
    "* Studenti su dužni da samostalno i redovno rješavaju probleme iz zadaća.\n",
    "* Provjere zadaća će se vršiti u nekom od termina laboratorijskih vježbi nenajavljeno.\n",
    "\n",
    "Ukupna ocjena iz predmeta će se formulisati na osnovu bodova iz provjere zadaća,  bodova iz testova i završnog ispita."
   ]
  },
  {
   "cell_type": "markdown",
   "metadata": {
    "slideshow": {
     "slide_type": "slide"
    }
   },
   "source": [
    "## Raspodjela bodova\n",
    "\n",
    "Udio u ukupnoj ocjeni:\n",
    "\n",
    "* Predispitne aktivnosti:\n",
    "  1. Zadaće __55%__\n",
    "  2. Testovi u toku semestra __45%__"
   ]
  },
  {
   "cell_type": "markdown",
   "metadata": {
    "slideshow": {
     "slide_type": "slide"
    }
   },
   "source": [
    "## Formiranje ocjene\n",
    "\n",
    "Bodovi|Ocjena\n",
    "------|----\n",
    "50 - 64  | 6\n",
    "65 - 74  | 7\n",
    "75 - 84  | 8\n",
    "85 - 94  | 9\n",
    "95 - 100 | 10"
   ]
  },
  {
   "cell_type": "markdown",
   "metadata": {
    "slideshow": {
     "slide_type": "slide"
    }
   },
   "source": [
    "## Imperativno programiranje\n",
    "\n",
    "Model programiranja koji direktno proizilazi iz **von Neumann** arhitekture računara, u kojem program u svakom trenutku ima:\n",
    "* stanje,\n",
    "* i sekvencu operacija koje mijenjaju stanja.\n",
    "\n",
    "Fokus se stavlja na to **kako** izgleda sekvenca operacija koja predstavlja rješenje za dati problem.\n",
    "\n",
    "Matematičko uporište za ovaj model proračuna proizilazi iz teorije: **Turing Machine**."
   ]
  },
  {
   "cell_type": "markdown",
   "metadata": {
    "slideshow": {
     "slide_type": "slide"
    }
   },
   "source": [
    "## Objektno orijentirano programiranje\n",
    "\n",
    "Je imperativni model programiranja u kojem je:\n",
    "* stanje programa enkapsulirano u objektima koji su instancirani u programu,\n",
    "* stanje programa se mijenja (mutira) sekvencom pozivanja nekonstantnih metoda na tim objektima."
   ]
  },
  {
   "cell_type": "markdown",
   "metadata": {
    "slideshow": {
     "slide_type": "slide"
    }
   },
   "source": [
    "## Problemi imperativnog programiranja\n",
    "\n",
    "Što je program veći to je više bug-ova, a postaje i teži za razumjevanje i održavanje.\n",
    "\n",
    "Mutacije stanja, popratni efekti i eksplicitna kontrola toka u programima ograničavaju kompoziciju, onemogućavaju lokalno rezonovanje i otežavaju refaktoriranje."
   ]
  },
  {
   "cell_type": "markdown",
   "metadata": {
    "slideshow": {
     "slide_type": "slide"
    }
   },
   "source": [
    "> Conventional programming languages are growing ever more enormous, but not stronger. Inherent defects at the most basic level cause them to be both fat and weak: their primitive word-at-a-time style of programming inherited from their common ancestor — the von Neumann computer, their close coupling of semantics to state transitions, their division of programming into a world of expressions and a world of statements, their inability to effectively use powerful combining forms for building new programs from existing ones, and their lack of useful mathematical properties for reasoning about programs.\n",
    "\n",
    " John Backus’ Turning Award lecture, \"Can Programming Be Liberated from the von Neumann Style?\", 1977 "
   ]
  },
  {
   "cell_type": "markdown",
   "metadata": {
    "slideshow": {
     "slide_type": "slide"
    }
   },
   "source": [
    "## Funkcionalno programiranje \n",
    "\n",
    "Model programiranje u kojem se riješenje nalazi kompozicijom funkcija:\n",
    "* ne postoji stanje koje se mutira.\n",
    "* u najčišćoj formi funkcije su čiste matematičke i ne proizvode popratne efekte.\n",
    "\n",
    "Fokus se stavlja na to **šta** je rješenje programa.\n",
    "\n",
    "Matematičko uporište za ovaj model proračuna proizilazi iz teorije: **Lambda Calculus**"
   ]
  },
  {
   "cell_type": "markdown",
   "metadata": {
    "slideshow": {
     "slide_type": "slide"
    }
   },
   "source": [
    "## Primjer fokusa na **kako** \n",
    "\n",
    "```cpp\n",
    "#include <ranges>\n",
    "#include <vector>\n",
    "#include <iostream>\n",
    "bool is_even(int x);\n",
    "\n",
    "void foo(const std::vector<int>& v) {\n",
    "  auto it = std::begin(v);\n",
    "  std::advance(it, 2);\n",
    "  auto ix = 0;\n",
    "  while (it != std::end(v) && ix++ < 3) {\n",
    "    if (is_even(*it))\n",
    "      std::cout << (*it);\n",
    "    it++;\n",
    "  }\n",
    "}\n",
    "```"
   ]
  },
  {
   "cell_type": "markdown",
   "metadata": {
    "slideshow": {
     "slide_type": "subslide"
    }
   },
   "source": [
    "## Primjer fokusa na **šta** \n",
    "\n",
    "```cpp\n",
    "void bar(const std::vector<int>& v) {\n",
    "  using namespace std::ranges::views;\n",
    "  for (auto const i : v | drop(2) | take(3) | filter(is_even)) { \n",
    "    std::cout << i;\n",
    "  };\n",
    "}\n",
    "```"
   ]
  },
  {
   "cell_type": "markdown",
   "metadata": {
    "slideshow": {
     "slide_type": "slide"
    }
   },
   "source": [
    "## Funkcionalno programiranje istorijat\n",
    "\n",
    "1930-tih\n",
    ": Alonzo Church izmišlja lambda račun, matematički formalizam za formiranje proračuna na bazi koncepata: lambda izraz, lambda aplikacija, vezivanje varijabli i supstitucija varijabli.\n",
    "\n",
    "1950-tih\n",
    ": John McCarthy izmišlja `Lisp`, prvi funkcionalni jezik inspirisan lambda računom.\n",
    "\n",
    "1970-tih\n",
    ": Robin Milner izmišlja `ML`, prvi statički tipizirani funkcionalni jezik sa zaključivanjem tipova (type inference) i polimorfnim tipovima. Na ovom osnovu kasnije nastaju dijalekti `OCaml` i `F#`."
   ]
  },
  {
   "cell_type": "markdown",
   "metadata": {
    "slideshow": {
     "slide_type": "subslide"
    }
   },
   "source": [
    "1980-tih\n",
    ": David Turner izmišlja seriju lijenih (lazy) funkcionalnih jezika, od kojih je najbitniji `Miranda`.\n",
    "\n",
    "1987\n",
    ": Internacionalni komitet počinje rad na formaliziranju standardnog jezika za funkcionalno programiranje pod nazivom `Haskell`.\n",
    "\n",
    "1990-tih\n",
    ": Simon Peyton Jones, Paul Houdak, Phil Wadler razvijaju dva ključna koncepta na kojim počiva moderni Haskell: `type class` i `monad`.\n"
   ]
  },
  {
   "cell_type": "markdown",
   "metadata": {
    "slideshow": {
     "slide_type": "slide"
    }
   },
   "source": [
    "## `F#`\n",
    "\n",
    "Nastao 2002 na osnovu programskog jezika `OCaml`.\n",
    "\n",
    "Podražava većinu koncepata koji se danas smatraju funkcionalnim aspektima programiranja.\n",
    "\n",
    "Nudi interoperabilnost sa kompletnom `.NET` platformom.\n",
    "\n",
    "Podržava i `OOP` model programiranja."
   ]
  },
  {
   "cell_type": "code",
   "execution_count": 1,
   "metadata": {
    "dotnet_interactive": {
     "language": "fsharp"
    },
    "polyglot_notebook": {
     "kernelName": "fsharp"
    },
    "slideshow": {
     "slide_type": "slide"
    },
    "vscode": {
     "languageId": "polyglot-notebook"
    }
   },
   "outputs": [
    {
     "name": "stdout",
     "output_type": "stream",
     "text": [
      "4\n",
      "22\n"
     ]
    }
   ],
   "source": [
    "let foo v = \n",
    "        v |> Array.removeManyAt 0 2 \n",
    "          |> Array.take 3 \n",
    "          |> Array.filter (fun x -> x % 2 = 0) \n",
    "          |> Array.map (fun x -> printfn \"%d\" x) \n",
    "          |> ignore\n",
    "\n",
    "foo [|5; 8; 4; 11; 22; 205|]"
   ]
  },
  {
   "cell_type": "markdown",
   "metadata": {
    "slideshow": {
     "slide_type": "slide"
    }
   },
   "source": [
    "```haskell\n",
    "foo = (filter (\\x->x `mod` 2 == 0) ) . (take 3) . (drop 2)\n",
    "```"
   ]
  }
 ],
 "metadata": {
  "language_info": {
   "name": "python"
  }
 },
 "nbformat": 4,
 "nbformat_minor": 2
}
