{
 "cells": [
  {
   "cell_type": "markdown",
   "metadata": {
    "slideshow": {
     "slide_type": "slide"
    }
   },
   "source": [
    "# Funkcionalno programiranje\n",
    "\n",
    "Amer Hasanović"
   ]
  },
  {
   "cell_type": "markdown",
   "metadata": {
    "slideshow": {
     "slide_type": "slide"
    }
   },
   "source": [
    "## Computation Expressions (CE)\n",
    "\n",
    "Određeni proračuni, zbog svojih karakteristika, neelegatno i/ili teško se mogu formulisati korištenjem standardne sintakse programskog jezika.\n",
    "\n",
    "Funkcionalni programski jezici često omogućavaju programerima da prošire sintaksu jezika i simplificiraju specifikaciju takvih problema u alternativnim formama. \n",
    "\n",
    "* `F#` tu mogućnost pruža kroz `CE`,\n",
    "* `Haskell` kroz sličan koncept koji se zove `Monad`.\n"
   ]
  },
  {
   "cell_type": "code",
   "execution_count": 2,
   "metadata": {
    "dotnet_interactive": {
     "language": "fsharp"
    },
    "polyglot_notebook": {
     "kernelName": "fsharp"
    },
    "slideshow": {
     "slide_type": "subslide"
    },
    "vscode": {
     "languageId": "polyglot-notebook"
    }
   },
   "outputs": [],
   "source": [
    "open System\n",
    "\n",
    "let tryParse (s:string) = \n",
    "  let mutable res = 0\n",
    "  if Int32.TryParse(s, &res) then\n",
    "      Some res\n",
    "  else\n",
    "      None\n",
    "\n",
    "let num () = System.Console.ReadLine() |> tryParse\n",
    "\n"
   ]
  },
  {
   "cell_type": "code",
   "execution_count": 3,
   "metadata": {
    "dotnet_interactive": {
     "language": "fsharp"
    },
    "polyglot_notebook": {
     "kernelName": "fsharp"
    },
    "slideshow": {
     "slide_type": "subslide"
    },
    "vscode": {
     "languageId": "polyglot-notebook"
    }
   },
   "outputs": [],
   "source": [
    "let sum ao bo co = \n",
    "  match ao with \n",
    "  | Some a ->\n",
    "     match bo with \n",
    "     | Some b -> \n",
    "       match co with\n",
    "       | Some c -> Some (a + b + c)\n",
    "       | None -> None\n",
    "     | None -> None\n",
    "  | None -> None\n",
    "\n",
    "//sum (num ()) (num ()) (num ()) |> printfn \"%A\""
   ]
  },
  {
   "cell_type": "code",
   "execution_count": 4,
   "metadata": {
    "dotnet_interactive": {
     "language": "fsharp"
    },
    "polyglot_notebook": {
     "kernelName": "fsharp"
    },
    "slideshow": {
     "slide_type": "subslide"
    },
    "vscode": {
     "languageId": "polyglot-notebook"
    }
   },
   "outputs": [],
   "source": [
    "type MaybeBuilder() =\n",
    "\n",
    "  member this.Bind(o, f) = \n",
    "    match o with\n",
    "    | Some x -> f x \n",
    "    | None -> None\n",
    "\n",
    "  member this.Return(x) = Some x\n",
    "\n",
    "let maybe = MaybeBuilder()"
   ]
  },
  {
   "cell_type": "code",
   "execution_count": 5,
   "metadata": {
    "dotnet_interactive": {
     "language": "fsharp"
    },
    "polyglot_notebook": {
     "kernelName": "fsharp"
    },
    "slideshow": {
     "slide_type": "subslide"
    },
    "vscode": {
     "languageId": "polyglot-notebook"
    }
   },
   "outputs": [],
   "source": [
    "let sum0 ao bo co = \n",
    "  match ao with \n",
    "  | Some a ->\n",
    "     match bo with \n",
    "     | Some b -> \n",
    "       match co with\n",
    "       | Some c -> maybe.Return(a + b + c)\n",
    "       | None -> None\n",
    "     | None -> None\n",
    "  | None -> None"
   ]
  },
  {
   "cell_type": "code",
   "execution_count": 6,
   "metadata": {
    "dotnet_interactive": {
     "language": "fsharp"
    },
    "polyglot_notebook": {
     "kernelName": "fsharp"
    },
    "slideshow": {
     "slide_type": "subslide"
    },
    "vscode": {
     "languageId": "polyglot-notebook"
    }
   },
   "outputs": [],
   "source": [
    "let sum1 ao bo co = \n",
    "  match ao with \n",
    "  | Some a ->\n",
    "     match bo with \n",
    "     | Some b -> \n",
    "         maybe.Bind(co, fun c -> \n",
    "           maybe.Return(a+b+c)\n",
    "         )\n",
    "     | None -> None\n",
    "  | None -> None"
   ]
  },
  {
   "cell_type": "code",
   "execution_count": 7,
   "metadata": {
    "dotnet_interactive": {
     "language": "fsharp"
    },
    "polyglot_notebook": {
     "kernelName": "fsharp"
    },
    "slideshow": {
     "slide_type": "subslide"
    },
    "vscode": {
     "languageId": "polyglot-notebook"
    }
   },
   "outputs": [],
   "source": [
    "let sum2 ao bo co = \n",
    "  match ao with \n",
    "  | Some a -> \n",
    "      maybe.Bind( bo, fun b -> \n",
    "        maybe.Bind(co, fun c -> \n",
    "          maybe.Return(a+b+c)\n",
    "        )\n",
    "      )\n",
    "  | None -> None"
   ]
  },
  {
   "cell_type": "code",
   "execution_count": 8,
   "metadata": {
    "dotnet_interactive": {
     "language": "fsharp"
    },
    "polyglot_notebook": {
     "kernelName": "fsharp"
    },
    "slideshow": {
     "slide_type": "subslide"
    },
    "vscode": {
     "languageId": "polyglot-notebook"
    }
   },
   "outputs": [],
   "source": [
    "let sum3 ao bo co =\n",
    "  maybe.Bind(ao, fun a ->\n",
    "    maybe.Bind(bo, fun b ->\n",
    "      maybe.Bind(co, fun c ->\n",
    "        maybe.Return (a + b + c)\n",
    "      )\n",
    "    )\n",
    "  )"
   ]
  },
  {
   "cell_type": "code",
   "execution_count": 9,
   "metadata": {
    "dotnet_interactive": {
     "language": "fsharp"
    },
    "polyglot_notebook": {
     "kernelName": "fsharp"
    },
    "slideshow": {
     "slide_type": "subslide"
    },
    "vscode": {
     "languageId": "polyglot-notebook"
    }
   },
   "outputs": [],
   "source": [
    "let sum4 ao bo co =\n",
    "  maybe.Bind(ao, fun a ->\n",
    "  maybe.Bind(bo, fun b ->\n",
    "  maybe.Bind(co, fun c ->\n",
    "  maybe.Return (a + b + c)\n",
    "  )))"
   ]
  },
  {
   "cell_type": "markdown",
   "metadata": {
    "slideshow": {
     "slide_type": "subslide"
    }
   },
   "source": [
    "Neka je:\n",
    "\n",
    "```txt\n",
    "maybe.Return x <==> maybe { return x }\n",
    "```"
   ]
  },
  {
   "cell_type": "code",
   "execution_count": 10,
   "metadata": {
    "dotnet_interactive": {
     "language": "fsharp"
    },
    "polyglot_notebook": {
     "kernelName": "fsharp"
    },
    "slideshow": {
     "slide_type": "subslide"
    },
    "vscode": {
     "languageId": "polyglot-notebook"
    }
   },
   "outputs": [],
   "source": [
    "let sum5 ao bo co = \n",
    "  maybe.Bind(ao, fun a ->\n",
    "  maybe.Bind(bo, fun b ->\n",
    "  maybe.Bind(co, fun c ->\n",
    "    maybe { return a + b + c }\n",
    "  )))"
   ]
  },
  {
   "cell_type": "markdown",
   "metadata": {
    "slideshow": {
     "slide_type": "subslide"
    }
   },
   "source": [
    "Neka je:\n",
    "\n",
    "```txt\n",
    "maybe.Bind(xo, fun x ->           maybe {\n",
    "  yo                        <==>     let! x = xo\n",
    ")                                    yo\n",
    "                                  }\n",
    "```"
   ]
  },
  {
   "cell_type": "code",
   "execution_count": 11,
   "metadata": {
    "dotnet_interactive": {
     "language": "fsharp"
    },
    "polyglot_notebook": {
     "kernelName": "fsharp"
    },
    "slideshow": {
     "slide_type": "subslide"
    },
    "vscode": {
     "languageId": "polyglot-notebook"
    }
   },
   "outputs": [],
   "source": [
    "let sum6 ao bo co = \n",
    "  maybe.Bind(ao, fun a ->\n",
    "  maybe.Bind(bo, fun b ->\n",
    "  maybe {\n",
    "      let! c = co\n",
    "      return a + b + c \n",
    "  }\n",
    "  ))"
   ]
  },
  {
   "cell_type": "code",
   "execution_count": null,
   "metadata": {
    "dotnet_interactive": {
     "language": "fsharp"
    },
    "polyglot_notebook": {
     "kernelName": "fsharp"
    },
    "slideshow": {
     "slide_type": "subslide"
    },
    "vscode": {
     "languageId": "polyglot-notebook"
    }
   },
   "outputs": [],
   "source": [
    "let sum7 ao bo co = \n",
    "  maybe.Bind(ao, fun a ->\n",
    "  maybe {\n",
    "      let! b = bo\n",
    "      let! c = co\n",
    "      return a + b + c \n",
    "  }\n",
    "  )"
   ]
  },
  {
   "cell_type": "code",
   "execution_count": null,
   "metadata": {
    "dotnet_interactive": {
     "language": "fsharp"
    },
    "polyglot_notebook": {
     "kernelName": "fsharp"
    },
    "slideshow": {
     "slide_type": "subslide"
    },
    "vscode": {
     "languageId": "polyglot-notebook"
    }
   },
   "outputs": [],
   "source": [
    "let sum8 ao bo co = maybe {\n",
    "    let! a = ao\n",
    "    let! b = bo\n",
    "    let! c = co\n",
    "    return a + b + c\n",
    "}\n",
    "\n",
    "// sum8 (num ()) (num ()) (num ()) |> printfn \"%A\"\n",
    "\n"
   ]
  },
  {
   "cell_type": "code",
   "execution_count": 13,
   "metadata": {
    "dotnet_interactive": {
     "language": "fsharp"
    },
    "polyglot_notebook": {
     "kernelName": "fsharp"
    },
    "slideshow": {
     "slide_type": "subslide"
    },
    "vscode": {
     "languageId": "polyglot-notebook"
    }
   },
   "outputs": [],
   "source": [
    "let sumL ls = \n",
    "  ls \n",
    "  |> List.map tryParse \n",
    "  |> List.fold (fun ao eo -> maybe { \n",
    "                  let! a = ao\n",
    "                  let! e = eo\n",
    "                  return a + e\n",
    "                }) (Some 0)\n",
    "\n",
    "// List.init 3 (fun _ -> System.Console.ReadLine()) \n",
    "// |> sumL\n",
    "// |> printfn \"%A\" "
   ]
  },
  {
   "cell_type": "markdown",
   "metadata": {
    "slideshow": {
     "slide_type": "slide"
    }
   },
   "source": [
    "## Asinhroni program\n",
    "\n",
    "Predstavlja program u kojem jedan ili više dijelova proračuna, iz nekih razloga, zahtijevaju odgodu.\n",
    "\n",
    "Najčešći primjeri su programi sa intenzivnim `IO` operacijama, npr:\n",
    "\n",
    "* GUI\n",
    "* Web aplikacije frontend i bekend\n"
   ]
  },
  {
   "cell_type": "markdown",
   "metadata": {
    "slideshow": {
     "slide_type": "subslide"
    }
   },
   "source": [
    "Za potrebe asinhronog programiranja `F#` definira `async` CE.\n",
    "\n",
    "`async` CE proizvodi vrijednost tipa `Async<'a>`, koja reprezentira neki proračun koji kad se izvrši proizvodi vrijednost tipa `'a`."
   ]
  },
  {
   "cell_type": "code",
   "execution_count": null,
   "metadata": {
    "dotnet_interactive": {
     "language": "fsharp"
    },
    "polyglot_notebook": {
     "kernelName": "fsharp"
    },
    "slideshow": {
     "slide_type": "subslide"
    },
    "vscode": {
     "languageId": "polyglot-notebook"
    }
   },
   "outputs": [],
   "source": [
    "let comp f x (t:int) = async {\n",
    "    do! Async.Sleep t\n",
    "    return (f x)\n",
    "}\n",
    "\n",
    "let c1s = comp (fun x -> printfn \"%A\" x) \"1s\" 1000\n",
    "let c4s = comp (fun x -> printfn \"%A\" x) \"4s\" 4000\n",
    "\n",
    "open System\n",
    "\n",
    "let bench ce = async {\n",
    "  let n = DateTime.Now\n",
    "  let! _ = ce\n",
    "  return (DateTime.Now-n).TotalMilliseconds\n",
    "}\n",
    "\n",
    "let cseq = Async.Sequential [c1s; c4s]\n",
    "let cpar = Async.Parallel [c1s; c4s]\n",
    "\n",
    "printfn \"Start1\"\n",
    "bench cseq \n",
    "|> Async.RunSynchronously \n",
    "|> printfn \"Seq. time: %A\" \n",
    "\n",
    "printfn \"Start2\"\n",
    "bench cpar \n",
    "|> Async.RunSynchronously \n",
    "|> printfn \"Par. time: %A\" \n",
    "\n",
    "\n",
    "let inf_comp ct = async {\n",
    "  while true do\n",
    "    do! ct\n",
    "}\n",
    "\n",
    "module Async =\n",
    "\n",
    "  let map f op = async {\n",
    "      let! x    = op\n",
    "      return f x\n",
    "  }\n",
    "\n",
    "let inf_cpar = \n",
    "  [inf_comp c1s; inf_comp c4s ] \n",
    "  |> Async.Parallel\n",
    "  |> Async.map (fun _ -> Some ()) \n",
    "\n",
    "let c5s = comp (fun _ -> Some ()) () 5000\n",
    "\n",
    "printfn \"Start3\"\n",
    "bench ( Async.Choice [inf_cpar; c5s] )\n",
    "|> Async.RunSynchronously \n",
    "|> printfn \"Total time: %A\" "
   ]
  },
  {
   "cell_type": "code",
   "execution_count": null,
   "metadata": {
    "dotnet_interactive": {
     "language": "fsharp"
    },
    "polyglot_notebook": {
     "kernelName": "fsharp"
    },
    "slideshow": {
     "slide_type": "subslide"
    },
    "vscode": {
     "languageId": "polyglot-notebook"
    }
   },
   "outputs": [],
   "source": [
    "let comp_expr n s = async {\n",
    "  if n % 2 <> 0 then \n",
    "    failwith s\n",
    "  return n  \n",
    "}\n",
    "\n",
    "let exprs = [ \n",
    "  comp_expr 9 \"1\"\n",
    "  comp_expr 3 \"2\"\n",
    "]\n",
    "\n",
    "try\n",
    "  exprs \n",
    "  |> Async.Parallel \n",
    "  |> Async.RunSynchronously\n",
    "  |> printfn \"%A\"\n",
    "with \n",
    " | Failure(s) -> s |> printfn \"%s\""
   ]
  },
  {
   "cell_type": "code",
   "execution_count": null,
   "metadata": {
    "dotnet_interactive": {
     "language": "fsharp"
    },
    "polyglot_notebook": {
     "kernelName": "fsharp"
    },
    "slideshow": {
     "slide_type": "subslide"
    },
    "vscode": {
     "languageId": "polyglot-notebook"
    }
   },
   "outputs": [],
   "source": [
    "open System\n",
    "\n",
    "let ct1 = async {\n",
    "  use! c = Async.OnCancel( \n",
    "    fun () -> printfn \"ct1 Canceled\"\n",
    "  )\n",
    "\n",
    "  while true do \n",
    "    do! Async.Sleep(2000)\n",
    "    DateTime.Now |> printfn \"%A\"\n",
    "\n",
    "}\n",
    "\n",
    "let ct2 = async {\n",
    "  use! c = Async.OnCancel(\n",
    "    fun () -> printfn \"ct2 Canceled\"\n",
    "  )\n",
    "\n",
    "  let! test = Async.StartChild ct1\n",
    "\n",
    "  while true do \n",
    "    do! Async.Sleep(1000)\n",
    "    printfn \"ct2\"\n",
    "}\n",
    "\n",
    "let ts = new System.Threading.CancellationTokenSource()\n",
    "printfn \"Start\"\n",
    "let r = Async.Start(ct2, cancellationToken=ts.Token)    \n",
    "printfn \"Waiting\"\n",
    "Console.ReadKey() |> ignore\n",
    "ts.Cancel()\n",
    "printfn \"Done!\""
   ]
  },
  {
   "cell_type": "code",
   "execution_count": null,
   "metadata": {
    "dotnet_interactive": {
     "language": "fsharp"
    },
    "polyglot_notebook": {
     "kernelName": "fsharp"
    },
    "slideshow": {
     "slide_type": "subslide"
    },
    "vscode": {
     "languageId": "polyglot-notebook"
    }
   },
   "outputs": [],
   "source": [
    "open System\n",
    "let primes = [ 2; 3; 5; 7; 4; 9 ]\n",
    "\n",
    "\n",
    "let computations = [ \n",
    "  for i in primes do\n",
    "    async {\n",
    "      do! Async.Sleep(System.Random().Next(2000, 9000))\n",
    "      return if i % 2 <> 0 then Some(i) else None\n",
    "    }\n",
    "]\n",
    "\n",
    "let ct = new System.Threading.CancellationTokenSource()\n",
    "\n",
    "let c1 = async {\n",
    "    System.Console.ReadKey() |> ignore\n",
    "    ct.Cancel()\n",
    "}\n",
    "\n",
    "printfn \"Start\"\n",
    "Async.Start c1\n",
    "try \n",
    "  Async.RunSynchronously( \n",
    "    computation = (computations |> Async.Choice), \n",
    "    cancellationToken = ct.Token \n",
    "  )\n",
    "  |> function\n",
    "    | Some (i) -> printfn $\"{i}\"\n",
    "    | None -> printfn \"No Result\"\n",
    "with\n",
    "  | :? System.OperationCanceledException -> printfn \"Canceled\""
   ]
  }
 ],
 "metadata": {
  "language_info": {
   "name": "fsharp"
  },
  "orig_nbformat": 4
 },
 "nbformat": 4,
 "nbformat_minor": 2
}
