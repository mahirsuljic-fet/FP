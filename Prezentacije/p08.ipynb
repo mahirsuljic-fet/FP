{
 "cells": [
  {
   "cell_type": "markdown",
   "metadata": {
    "slideshow": {
     "slide_type": "slide"
    }
   },
   "source": [
    "# Funkcionalno programiranje\n",
    "\n",
    "Amer Hasanović"
   ]
  },
  {
   "cell_type": "markdown",
   "metadata": {
    "slideshow": {
     "slide_type": "slide"
    }
   },
   "source": [
    "<style>\n",
    "pre {\n",
    "    overflow: auto !important;\n",
    "}\n",
    "</style>\n",
    "\n",
    "## Ekstenzije tipova\n",
    "\n",
    "**Svi** `F#` tipovi podržavaju ekstenzije u formi metoda, funkcija koje:\n",
    "\n",
    "* mogu biti pozivane na vrijednostima, tj. instancama tipova,\n",
    "* mogu biti pozivane na samim tipovima, u slučaju da su metodi definirani kao **static**."
   ]
  },
  {
   "cell_type": "code",
   "execution_count": 185,
   "metadata": {
    "dotnet_interactive": {
     "language": "fsharp"
    },
    "polyglot_notebook": {
     "kernelName": "fsharp"
    },
    "slideshow": {
     "slide_type": "subslide"
    },
    "vscode": {
     "languageId": "polyglot-notebook"
    }
   },
   "outputs": [
    {
     "data": {
      "text/plain": [
       "5+8i"
      ]
     },
     "metadata": {},
     "output_type": "display_data"
    }
   ],
   "source": [
    "module Complex =\n",
    "  type T = { Real : float ; Imag : float } with \n",
    "    member this.Print = $\"{this.Real}+{this.Imag}i\"\n",
    "  \n",
    "  let create r i = { Real = r; Imag = i}\n",
    "\n",
    "let t = Complex.create 5 8\n",
    "t.Print"
   ]
  },
  {
   "cell_type": "code",
   "execution_count": 186,
   "metadata": {
    "dotnet_interactive": {
     "language": "fsharp"
    },
    "polyglot_notebook": {
     "kernelName": "fsharp"
    },
    "slideshow": {
     "slide_type": "subslide"
    },
    "vscode": {
     "languageId": "polyglot-notebook"
    }
   },
   "outputs": [
    {
     "data": {
      "text/plain": [
       "5+j8"
      ]
     },
     "metadata": {},
     "output_type": "display_data"
    }
   ],
   "source": [
    "module Complex =\n",
    "  type T = { Real : float ; Imag : float } with \n",
    "    member this.Print = $\"{this.Real}+{this.Imag}i\"\n",
    "  \n",
    "  let create r i = { Real = r; Imag = i}\n",
    "\n",
    "  type T with\n",
    "    member this.AltPrint = $\"{this.Real}+j{this.Imag}\" \n",
    "\n",
    "let t = Complex.create 5 8\n",
    "t.AltPrint"
   ]
  },
  {
   "cell_type": "code",
   "execution_count": 187,
   "metadata": {
    "dotnet_interactive": {
     "language": "fsharp"
    },
    "polyglot_notebook": {
     "kernelName": "fsharp"
    },
    "slideshow": {
     "slide_type": "subslide"
    },
    "vscode": {
     "languageId": "polyglot-notebook"
    }
   },
   "outputs": [
    {
     "name": "stdout",
     "output_type": "stream",
     "text": [
      "5+j8\n"
     ]
    }
   ],
   "source": [
    "module Complex =\n",
    "  type T = { Real : float ; Imag : float } with \n",
    "    member x.Print = $\"{x.Real}+{x.Imag}i\"\n",
    "  \n",
    "  let create r i = { Real = r; Imag = i}\n",
    "\n",
    "\n",
    "module Drugi =\n",
    "  type Complex.T with\n",
    "    member this.AltPrint = $\"{this.Real}+j{this.Imag}\" \n",
    "    \n",
    "  let t = Complex.create 5 8\n",
    "  t.AltPrint |> printfn \"%s\""
   ]
  },
  {
   "cell_type": "code",
   "execution_count": 188,
   "metadata": {
    "dotnet_interactive": {
     "language": "fsharp"
    },
    "polyglot_notebook": {
     "kernelName": "fsharp"
    },
    "slideshow": {
     "slide_type": "subslide"
    },
    "vscode": {
     "languageId": "polyglot-notebook"
    }
   },
   "outputs": [
    {
     "ename": "Error",
     "evalue": "input.fsx (14,5)-(14,13) typecheck error The type 'T' does not define the field, constructor or member 'AltPrint'. Maybe you want one of the following:\n   Print",
     "output_type": "error",
     "traceback": [
      "input.fsx (14,5)-(14,13) typecheck error The type 'T' does not define the field, constructor or member 'AltPrint'. Maybe you want one of the following:\n",
      "   Print"
     ]
    }
   ],
   "source": [
    "module Complex =\n",
    "  type T = { Real : float ; Imag : float } with \n",
    "    member this.Print = $\"{this.Real}+{this.Imag}i\"\n",
    "  \n",
    "  let create r i = { Real = r; Imag = i}\n",
    "\n",
    "\n",
    "module Drugi =\n",
    "  type Complex.T with\n",
    "    member this.AltPrint = $\"{this.Real}+j{this.Imag}\" \n",
    "    \n",
    "module Treci =\n",
    "  let t = Complex.create 5 8\n",
    "  t.AltPrint |> printfn \"%s\""
   ]
  },
  {
   "cell_type": "code",
   "execution_count": 189,
   "metadata": {
    "dotnet_interactive": {
     "language": "fsharp"
    },
    "polyglot_notebook": {
     "kernelName": "fsharp"
    },
    "slideshow": {
     "slide_type": "subslide"
    },
    "vscode": {
     "languageId": "polyglot-notebook"
    }
   },
   "outputs": [
    {
     "name": "stdout",
     "output_type": "stream",
     "text": [
      "5+j8\n"
     ]
    }
   ],
   "source": [
    "module Complex =\n",
    "  type T = { Real : float ; Imag : float } with \n",
    "    member this.Print = $\"{this.Real}+{this.Imag}i\"\n",
    "  \n",
    "  let create r i = { Real = r; Imag = i}\n",
    "\n",
    "\n",
    "module Drugi =\n",
    "  type Complex.T with\n",
    "    member this.AltPrint = $\"{this.Real}+j{this.Imag}\" \n",
    "    \n",
    "\n",
    "module Treci =\n",
    "  let t = Complex.create 5 8\n",
    "  open Drugi\n",
    "  t.AltPrint |> printfn \"%s\""
   ]
  },
  {
   "cell_type": "code",
   "execution_count": 190,
   "metadata": {
    "dotnet_interactive": {
     "language": "fsharp"
    },
    "polyglot_notebook": {
     "kernelName": "fsharp"
    },
    "slideshow": {
     "slide_type": "subslide"
    },
    "vscode": {
     "languageId": "polyglot-notebook"
    }
   },
   "outputs": [
    {
     "name": "stdout",
     "output_type": "stream",
     "text": [
      "3.3+0i\n",
      "5.5+0i\n"
     ]
    }
   ],
   "source": [
    "module FooBar =\n",
    "  type System.Double with\n",
    "    member this.ToComplex = Complex.create this 0\n",
    "  \n",
    "  type System.Decimal with\n",
    "    member this.ToComplex = Complex.create (double this) 0\n",
    "  \n",
    "  let f : float = 3.3\n",
    "  let d  = 5.5M\n",
    "  f.ToComplex.Print |> printfn \"%s\"\n",
    "  d.ToComplex.Print |> printfn \"%s\"\n"
   ]
  },
  {
   "cell_type": "code",
   "execution_count": 191,
   "metadata": {
    "dotnet_interactive": {
     "language": "fsharp"
    },
    "polyglot_notebook": {
     "kernelName": "fsharp"
    },
    "slideshow": {
     "slide_type": "subslide"
    },
    "vscode": {
     "languageId": "polyglot-notebook"
    }
   },
   "outputs": [
    {
     "name": "stdout",
     "output_type": "stream",
     "text": [
      "5+4*i\n"
     ]
    }
   ],
   "source": [
    "module Complex =\n",
    "  type T = { Real : float ; Imag : float }\n",
    "\n",
    "  let create r i = { Real = r; Imag = i}\n",
    "  let print {T.Real = r; Imag = i}  = $\"{r}+{i}*i\"\n",
    "\n",
    "  type T with\n",
    "    member this.Print = print this\n",
    "    static member create  = create \n",
    "\n",
    "(Complex.T.create 5 4).Print |> printfn \"%s\""
   ]
  },
  {
   "cell_type": "code",
   "execution_count": 192,
   "metadata": {
    "dotnet_interactive": {
     "language": "fsharp"
    },
    "polyglot_notebook": {
     "kernelName": "fsharp"
    },
    "slideshow": {
     "slide_type": "subslide"
    },
    "vscode": {
     "languageId": "polyglot-notebook"
    }
   },
   "outputs": [
    {
     "ename": "Error",
     "evalue": "input.fsx (1,34)-(1,41) typecheck error Lookup on object of indeterminate type based on information prior to this program point. A type annotation may be needed prior to this program point to constrain the type of the object. This may allow the lookup to be resolved.",
     "output_type": "error",
     "traceback": [
      "input.fsx (1,34)-(1,41) typecheck error Lookup on object of indeterminate type based on information prior to this program point. A type annotation may be needed prior to this program point to constrain the type of the object. This may allow the lookup to be resolved."
     ]
    }
   ],
   "source": [
    "let foo c = \"Complex broj je:\" + c.Print"
   ]
  },
  {
   "cell_type": "code",
   "execution_count": 193,
   "metadata": {
    "dotnet_interactive": {
     "language": "fsharp"
    },
    "polyglot_notebook": {
     "kernelName": "fsharp"
    },
    "slideshow": {
     "slide_type": "subslide"
    },
    "vscode": {
     "languageId": "polyglot-notebook"
    }
   },
   "outputs": [
    {
     "data": {
      "text/plain": [
       "Complex broj je: 3+2*i"
      ]
     },
     "metadata": {},
     "output_type": "display_data"
    }
   ],
   "source": [
    "let foo (c : Complex.T) = \"Complex broj je: \" + c.Print\n",
    "\n",
    "Complex.create 3 2 |> foo"
   ]
  },
  {
   "cell_type": "code",
   "execution_count": 194,
   "metadata": {
    "dotnet_interactive": {
     "language": "fsharp"
    },
    "polyglot_notebook": {
     "kernelName": "fsharp"
    },
    "slideshow": {
     "slide_type": "subslide"
    },
    "vscode": {
     "languageId": "polyglot-notebook"
    }
   },
   "outputs": [
    {
     "data": {
      "text/plain": [
       "Complex broj je: 3+2*i"
      ]
     },
     "metadata": {},
     "output_type": "display_data"
    }
   ],
   "source": [
    "let bar c = \"Complex broj je: \" +  (Complex.print c)\n",
    "\n",
    "Complex.create 3 2 |> bar"
   ]
  },
  {
   "cell_type": "code",
   "execution_count": 195,
   "metadata": {
    "dotnet_interactive": {
     "language": "fsharp"
    },
    "polyglot_notebook": {
     "kernelName": "fsharp"
    },
    "slideshow": {
     "slide_type": "subslide"
    },
    "vscode": {
     "languageId": "polyglot-notebook"
    }
   },
   "outputs": [],
   "source": [
    "module Complex =\n",
    "  type T = { Real : float ; Imag : float } with\n",
    "   override this.ToString () = \n",
    "     sprintf \"%.3f+%.3fi\" this.Real this.Imag\n",
    "\n",
    "  let create r i = { Real = r; Imag = i}\n",
    "  let print c = c.ToString()\n",
    "  let saberi (c : T) r i = { Real = c.Real + r; Imag = c.Imag + i }\n",
    "  let oduzmi (c : T) r i = { Real = c.Real - r; Imag = c.Imag - i }\n",
    "\n",
    "  type T with\n",
    "    member this.Saberi r i = saberi this r i\n",
    "    member this.Oduzmi (dc:T) = oduzmi this dc.Real dc.Imag\n",
    "    member this.Oduzmi (r, ?i) = \n",
    "      match i with \n",
    "        | None -> oduzmi this r 0\n",
    "        | Some i -> oduzmi this r i\n",
    "    static member (-) (a:T, b:T) = a.Oduzmi(b) \n",
    "    static member (-) (a:T, b:float) = a.Oduzmi(b)\n"
   ]
  },
  {
   "cell_type": "code",
   "execution_count": 196,
   "metadata": {
    "dotnet_interactive": {
     "language": "fsharp"
    },
    "polyglot_notebook": {
     "kernelName": "fsharp"
    },
    "slideshow": {
     "slide_type": "subslide"
    },
    "vscode": {
     "languageId": "polyglot-notebook"
    }
   },
   "outputs": [],
   "source": [
    "let c1 = Complex.create 5 5\n",
    "let c2 = Complex.create 10 10"
   ]
  },
  {
   "cell_type": "code",
   "execution_count": 197,
   "metadata": {
    "dotnet_interactive": {
     "language": "fsharp"
    },
    "polyglot_notebook": {
     "kernelName": "fsharp"
    },
    "slideshow": {
     "slide_type": "subslide"
    },
    "vscode": {
     "languageId": "polyglot-notebook"
    }
   },
   "outputs": [
    {
     "name": "stdout",
     "output_type": "stream",
     "text": [
      "13.000+10.000i\n"
     ]
    }
   ],
   "source": [
    "c1.Saberi 8 5 |> printfn \"%O\"\n"
   ]
  },
  {
   "cell_type": "code",
   "execution_count": 198,
   "metadata": {
    "dotnet_interactive": {
     "language": "fsharp"
    },
    "polyglot_notebook": {
     "kernelName": "fsharp"
    },
    "slideshow": {
     "slide_type": "subslide"
    },
    "vscode": {
     "languageId": "polyglot-notebook"
    }
   },
   "outputs": [
    {
     "name": "stdout",
     "output_type": "stream",
     "text": [
      "0.000+3.000i\n",
      "0.000+5.000i\n",
      "-5.000+-5.000i\n"
     ]
    }
   ],
   "source": [
    "c1.Oduzmi(i=2, r=5) |> printfn \"%O\"\n",
    "c1.Oduzmi(5) |> printfn \"%O\"\n",
    "c1.Oduzmi(c2) |> printfn \"%O\""
   ]
  },
  {
   "cell_type": "code",
   "execution_count": 199,
   "metadata": {
    "dotnet_interactive": {
     "language": "fsharp"
    },
    "polyglot_notebook": {
     "kernelName": "fsharp"
    },
    "slideshow": {
     "slide_type": "subslide"
    },
    "vscode": {
     "languageId": "polyglot-notebook"
    }
   },
   "outputs": [
    {
     "name": "stdout",
     "output_type": "stream",
     "text": [
      "-5.000+-5.000i\n",
      "1.900+5.000i\n"
     ]
    }
   ],
   "source": [
    "open type Complex.T\n",
    "c1 - c2 |> Complex.print |> printfn \"%s\"\n",
    "c1 - 3.1 |> Complex.print |> printfn \"%s\""
   ]
  },
  {
   "cell_type": "markdown",
   "metadata": {
    "slideshow": {
     "slide_type": "slide"
    }
   },
   "source": [
    "## `F#` imperativno programiranje"
   ]
  },
  {
   "cell_type": "code",
   "execution_count": 200,
   "metadata": {
    "dotnet_interactive": {
     "language": "fsharp"
    },
    "polyglot_notebook": {
     "kernelName": "fsharp"
    },
    "slideshow": {
     "slide_type": "subslide"
    },
    "vscode": {
     "languageId": "polyglot-notebook"
    }
   },
   "outputs": [
    {
     "name": "stdout",
     "output_type": "stream",
     "text": [
      "5\n"
     ]
    }
   ],
   "source": [
    "let mutable a = 5\n",
    "a |> printfn \"%d\" "
   ]
  },
  {
   "cell_type": "code",
   "execution_count": 201,
   "metadata": {
    "dotnet_interactive": {
     "language": "fsharp"
    },
    "polyglot_notebook": {
     "kernelName": "fsharp"
    },
    "slideshow": {
     "slide_type": "fragment"
    },
    "vscode": {
     "languageId": "polyglot-notebook"
    }
   },
   "outputs": [
    {
     "name": "stdout",
     "output_type": "stream",
     "text": [
      "10\n"
     ]
    }
   ],
   "source": [
    "a <- 10\n",
    "a |> printfn \"%d\" "
   ]
  },
  {
   "cell_type": "code",
   "execution_count": 202,
   "metadata": {
    "dotnet_interactive": {
     "language": "fsharp"
    },
    "polyglot_notebook": {
     "kernelName": "fsharp"
    },
    "slideshow": {
     "slide_type": "subslide"
    },
    "vscode": {
     "languageId": "polyglot-notebook"
    }
   },
   "outputs": [],
   "source": [
    "let foo (r : byref<int>) =\n",
    "  printfn $\"foo je dobio {r}\"\n",
    "  r <- r + 2"
   ]
  },
  {
   "cell_type": "code",
   "execution_count": 203,
   "metadata": {
    "dotnet_interactive": {
     "language": "fsharp"
    },
    "polyglot_notebook": {
     "kernelName": "fsharp"
    },
    "slideshow": {
     "slide_type": "fragment"
    },
    "vscode": {
     "languageId": "polyglot-notebook"
    }
   },
   "outputs": [
    {
     "name": "stdout",
     "output_type": "stream",
     "text": [
      "foo je dobio 10\n",
      "12\n"
     ]
    }
   ],
   "source": [
    "let mutable b = 10\n",
    "foo &b\n",
    "b |> printfn \"%d\""
   ]
  },
  {
   "cell_type": "code",
   "execution_count": 204,
   "metadata": {
    "dotnet_interactive": {
     "language": "fsharp"
    },
    "polyglot_notebook": {
     "kernelName": "fsharp"
    },
    "slideshow": {
     "slide_type": "fragment"
    },
    "vscode": {
     "languageId": "polyglot-notebook"
    }
   },
   "outputs": [
    {
     "ename": "Error",
     "evalue": "input.fsx (3,3)-(3,13) typecheck error The byref pointer is readonly, so this write is not permitted.",
     "output_type": "error",
     "traceback": [
      "input.fsx (3,3)-(3,13) typecheck error The byref pointer is readonly, so this write is not permitted."
     ]
    }
   ],
   "source": [
    "let bar(r : inref<int>) =\n",
    "  printfn $\"foo je dobio {r}\"\n",
    "  r <- r + 2\n"
   ]
  },
  {
   "cell_type": "code",
   "execution_count": 205,
   "metadata": {
    "dotnet_interactive": {
     "language": "fsharp"
    },
    "polyglot_notebook": {
     "kernelName": "fsharp"
    },
    "slideshow": {
     "slide_type": "fragment"
    },
    "vscode": {
     "languageId": "polyglot-notebook"
    }
   },
   "outputs": [],
   "source": [
    "let tar(r : outref<int>) =\n",
    "  r <- r + 2\n"
   ]
  },
  {
   "cell_type": "code",
   "execution_count": 206,
   "metadata": {
    "dotnet_interactive": {
     "language": "fsharp"
    },
    "polyglot_notebook": {
     "kernelName": "fsharp"
    },
    "slideshow": {
     "slide_type": "subslide"
    },
    "vscode": {
     "languageId": "polyglot-notebook"
    }
   },
   "outputs": [
    {
     "name": "stdout",
     "output_type": "stream",
     "text": [
      "55\n"
     ]
    }
   ],
   "source": [
    "let sumWhile n =\n",
    "  let mutable s = 0\n",
    "  let mutable i = 0\n",
    "  while i <= 10 do\n",
    "    s <- i + s\n",
    "    i <- i + 1\n",
    "  s\n",
    "\n",
    "sumWhile 5 |> printfn \"%d\" "
   ]
  },
  {
   "cell_type": "code",
   "execution_count": 207,
   "metadata": {
    "dotnet_interactive": {
     "language": "fsharp"
    },
    "polyglot_notebook": {
     "kernelName": "fsharp"
    },
    "slideshow": {
     "slide_type": "subslide"
    },
    "vscode": {
     "languageId": "polyglot-notebook"
    }
   },
   "outputs": [
    {
     "name": "stdout",
     "output_type": "stream",
     "text": [
      "15\n"
     ]
    }
   ],
   "source": [
    "let sumFor n =\n",
    "  let mutable s = 0\n",
    "  for i in [1..n] do\n",
    "    s <- s + i\n",
    "  s\n",
    "\n",
    "5 |> sumFor |> printfn \"%d\" "
   ]
  },
  {
   "cell_type": "code",
   "execution_count": 208,
   "metadata": {
    "dotnet_interactive": {
     "language": "fsharp"
    },
    "polyglot_notebook": {
     "kernelName": "fsharp"
    },
    "slideshow": {
     "slide_type": "slide"
    },
    "vscode": {
     "languageId": "polyglot-notebook"
    }
   },
   "outputs": [
    {
     "name": "stdout",
     "output_type": "stream",
     "text": [
      "Running only once, when the class is loaded!\n"
     ]
    }
   ],
   "source": [
    "type Student( name : string, last_name : string, dob : DateTime )  =\n",
    "  static let mutable cnt = 0\n",
    "  static do \n",
    "    printfn \"Running only once, when the class is loaded!\"\n",
    "\n",
    "  do\n",
    "    printfn $\"Constructed a student {name}\"\n",
    "    cnt <- cnt + 1\n",
    "    \n",
    "  let cur_cnt = cnt\n",
    "  let mutable l_n = last_name\n",
    "\n",
    "\n",
    "  member this.Name = name\n",
    "  member this.Dob = dob\n",
    "  member this.Age = ( DateTime.Now - dob ).Days / 365\n",
    "  member this.Id = cur_cnt\n",
    "  \n",
    "  member this.Hello(a,b) = $\"{this.Name} says hello {a} {b}\"\n",
    "\n",
    "  member this.LastName \n",
    "   with get() = l_n\n",
    "   and set(ln) = l_n <- ln\n",
    "\n",
    "  member val Index = \"\" with get, set\n",
    "\n",
    "  override this.ToString() = $\"{name} {last_name} {dob}\"\n",
    "\n",
    "  new(n) = Student(n, \"Anonymous\", DateTime(2000,1,1))\n",
    "  new() = Student(\"Foobar\", \"Tarbar\", DateTime(2003,1,1))\n",
    "\n",
    "\n"
   ]
  },
  {
   "cell_type": "code",
   "execution_count": 209,
   "metadata": {
    "dotnet_interactive": {
     "language": "fsharp"
    },
    "polyglot_notebook": {
     "kernelName": "fsharp"
    },
    "slideshow": {
     "slide_type": "subslide"
    },
    "vscode": {
     "languageId": "polyglot-notebook"
    }
   },
   "outputs": [
    {
     "name": "stdout",
     "output_type": "stream",
     "text": [
      "Constructed a student Meho\n",
      "Constructed a student Foobar\n",
      "Constructed a student John\n"
     ]
    }
   ],
   "source": [
    "let a = Student(\"Meho\")\n",
    "let b = Student()\n",
    "let c = Student(last_name=\"Doe\", dob=DateTime.Now, name=\"John\")"
   ]
  },
  {
   "cell_type": "code",
   "execution_count": 210,
   "metadata": {
    "dotnet_interactive": {
     "language": "fsharp"
    },
    "polyglot_notebook": {
     "kernelName": "fsharp"
    },
    "slideshow": {
     "slide_type": "subslide"
    },
    "vscode": {
     "languageId": "polyglot-notebook"
    }
   },
   "outputs": [
    {
     "name": "stdout",
     "output_type": "stream",
     "text": [
      "Anonymous\n",
      "Tarbar\n",
      "Mehić\n"
     ]
    }
   ],
   "source": [
    "a.LastName |> printfn \"%s\"\n",
    "b.LastName |> printfn \"%s\"\n",
    "a.LastName <- \"Mehić\"\n",
    "a.LastName |> printfn \"%s\""
   ]
  },
  {
   "cell_type": "code",
   "execution_count": 211,
   "metadata": {
    "dotnet_interactive": {
     "language": "fsharp"
    },
    "polyglot_notebook": {
     "kernelName": "fsharp"
    },
    "slideshow": {
     "slide_type": "subslide"
    },
    "vscode": {
     "languageId": "polyglot-notebook"
    }
   },
   "outputs": [
    {
     "name": "stdout",
     "output_type": "stream",
     "text": [
      "23\n",
      "1\n",
      "2\n"
     ]
    }
   ],
   "source": [
    "a.Age |> printfn \"%d\"\n",
    "a.Id |> printfn \"%d\"\n",
    "b.Id |> printfn \"%d\""
   ]
  },
  {
   "cell_type": "code",
   "execution_count": 212,
   "metadata": {
    "dotnet_interactive": {
     "language": "fsharp"
    },
    "polyglot_notebook": {
     "kernelName": "fsharp"
    },
    "slideshow": {
     "slide_type": "subslide"
    },
    "vscode": {
     "languageId": "polyglot-notebook"
    }
   },
   "outputs": [
    {
     "data": {
      "text/plain": [
       "Meho says hello 10 foo"
      ]
     },
     "metadata": {},
     "output_type": "display_data"
    }
   ],
   "source": [
    "a.Hello(b=\"foo\",a=10)"
   ]
  },
  {
   "cell_type": "code",
   "execution_count": 213,
   "metadata": {
    "dotnet_interactive": {
     "language": "fsharp"
    },
    "polyglot_notebook": {
     "kernelName": "fsharp"
    },
    "slideshow": {
     "slide_type": "subslide"
    },
    "vscode": {
     "languageId": "polyglot-notebook"
    }
   },
   "outputs": [
    {
     "name": "stdout",
     "output_type": "stream",
     "text": [
      "Meho Anonymous 1/1/2000 12:00:00 AM\n"
     ]
    }
   ],
   "source": [
    "a |> printfn \"%A\""
   ]
  },
  {
   "cell_type": "code",
   "execution_count": 214,
   "metadata": {
    "dotnet_interactive": {
     "language": "fsharp"
    },
    "polyglot_notebook": {
     "kernelName": "fsharp"
    },
    "slideshow": {
     "slide_type": "slide"
    },
    "vscode": {
     "languageId": "polyglot-notebook"
    }
   },
   "outputs": [],
   "source": [
    "type Vector(x: float, y : float) =\n",
    "  member this.x = x\n",
    "  member this.y = y\n",
    "  static member (~-) (v : Vector) =\n",
    "    Vector(-1.0 * v.x, -1.0 * v.y)\n",
    "  static member (*) (v : Vector, a) =\n",
    "    Vector(a * v.x, a * v.y)\n",
    "  static member (*) (a, v: Vector) =\n",
    "    Vector(a * v.x, a * v.y)\n",
    "  override this.ToString() =\n",
    "    this.x.ToString() + \" \" + this.y.ToString()\n"
   ]
  },
  {
   "cell_type": "code",
   "execution_count": 215,
   "metadata": {
    "dotnet_interactive": {
     "language": "fsharp"
    },
    "polyglot_notebook": {
     "kernelName": "fsharp"
    },
    "slideshow": {
     "slide_type": "subslide"
    },
    "vscode": {
     "languageId": "polyglot-notebook"
    }
   },
   "outputs": [
    {
     "name": "stdout",
     "output_type": "stream",
     "text": [
      "1 2\n",
      "2 4\n",
      "2 4\n",
      "-2 -4\n"
     ]
    }
   ],
   "source": [
    "let v1 = Vector(1.0, 2.0)\n",
    "\n",
    "let v2 = v1 * 2.0\n",
    "let v3 = 2.0 * v1\n",
    "\n",
    "let v4 = - v2\n",
    "\n",
    "printfn \"%A\" v1\n",
    "printfn \"%A\" v2\n",
    "printfn \"%A\" v3\n",
    "printfn \"%A\" v4"
   ]
  },
  {
   "cell_type": "code",
   "execution_count": 216,
   "metadata": {
    "dotnet_interactive": {
     "language": "fsharp"
    },
    "polyglot_notebook": {
     "kernelName": "fsharp"
    },
    "slideshow": {
     "slide_type": "slide"
    },
    "vscode": {
     "languageId": "polyglot-notebook"
    }
   },
   "outputs": [],
   "source": [
    "type C(a: 'a, b: 'b) =\n",
    "  let z = a\n",
    "  let y = b\n",
    "  member this.Foo(x: 'a) = printfn \"%A %A %A\" x y z"
   ]
  },
  {
   "cell_type": "code",
   "execution_count": 217,
   "metadata": {
    "dotnet_interactive": {
     "language": "fsharp"
    },
    "polyglot_notebook": {
     "kernelName": "fsharp"
    },
    "slideshow": {
     "slide_type": "subslide"
    },
    "vscode": {
     "languageId": "polyglot-notebook"
    }
   },
   "outputs": [
    {
     "name": "stdout",
     "output_type": "stream",
     "text": [
      "5.5 \"foobar\" 2\n"
     ]
    }
   ],
   "source": [
    "C(2, \"foobar\").Foo(5.5)"
   ]
  },
  {
   "cell_type": "code",
   "execution_count": 218,
   "metadata": {
    "dotnet_interactive": {
     "language": "fsharp"
    },
    "polyglot_notebook": {
     "kernelName": "fsharp"
    },
    "slideshow": {
     "slide_type": "slide"
    },
    "vscode": {
     "languageId": "polyglot-notebook"
    }
   },
   "outputs": [],
   "source": [
    "type Base(x: int) =\n",
    "    let mutable z = x \n",
    "    do\n",
    "        for i in 1..z do\n",
    "            printf \"Base: %d \" i\n",
    "        printf \"\\n\"\n",
    "\n",
    "\n",
    "type Derived(y: int) =\n",
    "    inherit Base(y * 2)\n",
    "    do\n",
    "        for i in 1..y do\n",
    "            printf \"Derived: %d \" i"
   ]
  },
  {
   "cell_type": "code",
   "execution_count": 219,
   "metadata": {
    "dotnet_interactive": {
     "language": "fsharp"
    },
    "polyglot_notebook": {
     "kernelName": "fsharp"
    },
    "slideshow": {
     "slide_type": "subslide"
    },
    "vscode": {
     "languageId": "polyglot-notebook"
    }
   },
   "outputs": [
    {
     "name": "stdout",
     "output_type": "stream",
     "text": [
      "Base: 1 Base: 2 Base: 3 Base: 4 \n",
      "Derived: 1 Derived: 2 "
     ]
    }
   ],
   "source": [
    "Derived(2) |> ignore"
   ]
  },
  {
   "cell_type": "code",
   "execution_count": 220,
   "metadata": {
    "dotnet_interactive": {
     "language": "fsharp"
    },
    "polyglot_notebook": {
     "kernelName": "fsharp"
    },
    "slideshow": {
     "slide_type": "slide"
    },
    "vscode": {
     "languageId": "polyglot-notebook"
    }
   },
   "outputs": [],
   "source": [
    "[<AbstractClass>]\n",
    "type Shape2D(x0: float, y0: float) =\n",
    "    let mutable x, y = x0, y0\n",
    "    let mutable rotAngle = 0.0\n",
    "\n",
    "    member this.CenterX\n",
    "        with get () = x\n",
    "        and set xval = x <- xval\n",
    "\n",
    "    member this.CenterY\n",
    "        with get () = y\n",
    "        and set yval = y <- yval\n",
    "\n",
    "    abstract Area: float with get\n",
    "    abstract Perimeter: float with get\n",
    "    abstract Name: string with get\n",
    "\n",
    "    member this.Move dx dy =\n",
    "        x <- x + dx\n",
    "        y <- y + dy\n",
    "\n",
    "    abstract member Rotate: float -> unit\n",
    "    default this.Rotate(angle) = rotAngle <- rotAngle + angle\n"
   ]
  },
  {
   "cell_type": "code",
   "execution_count": 221,
   "metadata": {
    "dotnet_interactive": {
     "language": "fsharp"
    },
    "polyglot_notebook": {
     "kernelName": "fsharp"
    },
    "slideshow": {
     "slide_type": "subslide"
    },
    "vscode": {
     "languageId": "polyglot-notebook"
    }
   },
   "outputs": [],
   "source": [
    "type Square(x, y, sideLengthIn) =\n",
    "    inherit Shape2D(x, y)\n",
    "    member this.SideLength = sideLengthIn\n",
    "    \n",
    "    override this.Area = this.SideLength * this.SideLength\n",
    "    override this.Perimeter = this.SideLength * 4.\n",
    "    override this.Name = \"Square\""
   ]
  },
  {
   "cell_type": "code",
   "execution_count": 222,
   "metadata": {
    "dotnet_interactive": {
     "language": "fsharp"
    },
    "polyglot_notebook": {
     "kernelName": "fsharp"
    },
    "slideshow": {
     "slide_type": "subslide"
    },
    "vscode": {
     "languageId": "polyglot-notebook"
    }
   },
   "outputs": [],
   "source": [
    "type Circle(x, y, radius) =\n",
    "    inherit Shape2D(x, y)\n",
    "    let PI = 3.141592654\n",
    "    member this.Radius = radius\n",
    "\n",
    "    override this.Area = PI * this.Radius * this.Radius\n",
    "    override this.Perimeter = 2. * PI * this.Radius\n",
    "    override this.Name = \"Circle\"\n",
    "\n",
    "    override this.Rotate(_) = ()"
   ]
  },
  {
   "cell_type": "code",
   "execution_count": 223,
   "metadata": {
    "dotnet_interactive": {
     "language": "fsharp"
    },
    "polyglot_notebook": {
     "kernelName": "fsharp"
    },
    "slideshow": {
     "slide_type": "subslide"
    },
    "vscode": {
     "languageId": "polyglot-notebook"
    }
   },
   "outputs": [
    {
     "name": "stdout",
     "output_type": "stream",
     "text": [
      " 100.000000 78.539816"
     ]
    }
   ],
   "source": [
    "let square1 = Square(0.0, 0.0, 10.0)\n",
    "let circle1 = Circle(0.0, 0.0, 5.0)\n",
    "circle1.CenterX <- 1.0\n",
    "circle1.CenterY <- -2.0\n",
    "square1.Move -1.0 2.0\n",
    "square1.Rotate 45.0\n",
    "circle1.Rotate 45.0\n",
    "let shapeList: list<Shape2D> = [ square1; circle1 ]\n",
    "List.iter (fun (elem: Shape2D) -> printf \" %f\" elem.Area ) shapeList"
   ]
  },
  {
   "cell_type": "code",
   "execution_count": 224,
   "metadata": {
    "dotnet_interactive": {
     "language": "fsharp"
    },
    "polyglot_notebook": {
     "kernelName": "fsharp"
    },
    "slideshow": {
     "slide_type": "slide"
    },
    "vscode": {
     "languageId": "polyglot-notebook"
    }
   },
   "outputs": [],
   "source": [
    "type IPrintable =\n",
    "    abstract member Print: unit -> unit\n",
    "\n",
    "type SomeClass1(x: int, y: float) =\n",
    "    interface IPrintable with\n",
    "        member this.Print() = printfn \"%d %f\" x y\n"
   ]
  },
  {
   "cell_type": "code",
   "execution_count": 225,
   "metadata": {
    "dotnet_interactive": {
     "language": "fsharp"
    },
    "polyglot_notebook": {
     "kernelName": "fsharp"
    },
    "slideshow": {
     "slide_type": "subslide"
    },
    "vscode": {
     "languageId": "polyglot-notebook"
    }
   },
   "outputs": [
    {
     "ename": "Error",
     "evalue": "input.fsx (1,20)-(1,25) typecheck error The type 'SomeClass1' does not define the field, constructor or member 'Print'.",
     "output_type": "error",
     "traceback": [
      "input.fsx (1,20)-(1,25) typecheck error The type 'SomeClass1' does not define the field, constructor or member 'Print'."
     ]
    }
   ],
   "source": [
    "SomeClass1(2, 3.3).Print()"
   ]
  },
  {
   "cell_type": "code",
   "execution_count": 226,
   "metadata": {
    "dotnet_interactive": {
     "language": "fsharp"
    },
    "polyglot_notebook": {
     "kernelName": "fsharp"
    },
    "slideshow": {
     "slide_type": "subslide"
    },
    "vscode": {
     "languageId": "polyglot-notebook"
    }
   },
   "outputs": [
    {
     "name": "stdout",
     "output_type": "stream",
     "text": [
      "2 3.300000\n"
     ]
    }
   ],
   "source": [
    "(SomeClass1(2, 3.3) :> IPrintable).Print()"
   ]
  },
  {
   "cell_type": "code",
   "execution_count": 227,
   "metadata": {
    "dotnet_interactive": {
     "language": "fsharp"
    },
    "polyglot_notebook": {
     "kernelName": "fsharp"
    },
    "slideshow": {
     "slide_type": "subslide"
    },
    "vscode": {
     "languageId": "polyglot-notebook"
    }
   },
   "outputs": [
    {
     "name": "stdout",
     "output_type": "stream",
     "text": [
      "1 2.000000\n"
     ]
    }
   ],
   "source": [
    "let makePrintable (x: int, y: float) =\n",
    "    { new IPrintable with\n",
    "        member this.Print() = printfn \"%d %f\" x y }\n",
    "\n",
    "let x3 = makePrintable (1, 2.0)\n",
    "x3.Print()"
   ]
  },
  {
   "cell_type": "code",
   "execution_count": 228,
   "metadata": {
    "dotnet_interactive": {
     "language": "fsharp"
    },
    "polyglot_notebook": {
     "kernelName": "fsharp"
    },
    "slideshow": {
     "slide_type": "subslide"
    },
    "vscode": {
     "languageId": "polyglot-notebook"
    }
   },
   "outputs": [
    {
     "name": "stdout",
     "output_type": "stream",
     "text": [
      "5 4.500000\n"
     ]
    }
   ],
   "source": [
    "let foo (x : IPrintable ) = x.Print()\n",
    "SomeClass1(5, 4.5) |> foo "
   ]
  },
  {
   "cell_type": "code",
   "execution_count": 229,
   "metadata": {
    "dotnet_interactive": {
     "language": "fsharp"
    },
    "polyglot_notebook": {
     "kernelName": "fsharp"
    },
    "slideshow": {
     "slide_type": "slide"
    },
    "vscode": {
     "languageId": "polyglot-notebook"
    }
   },
   "outputs": [],
   "source": [
    "type Interface1 =\n",
    "    abstract member Method1: int -> int\n",
    "\n",
    "type Interface2 =\n",
    "    abstract member Method2: int -> int\n",
    "\n",
    "type Interface3 = \n",
    "  inherit Interface1\n",
    "  inherit Interface2\n",
    "  abstract member Method3: int -> int\n",
    "\n",
    "type FooBar() =\n",
    "  interface Interface3 with \n",
    "    member this.Method1 x = 2*x\n",
    "    member this.Method2 x = x*x\n",
    "    member this.Method3 x = x / 5\n"
   ]
  }
 ],
 "metadata": {
  "language_info": {
   "name": "fsharp"
  },
  "orig_nbformat": 4
 },
 "nbformat": 4,
 "nbformat_minor": 2
}
