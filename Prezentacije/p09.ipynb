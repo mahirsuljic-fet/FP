{
 "cells": [
  {
   "cell_type": "markdown",
   "metadata": {
    "slideshow": {
     "slide_type": "slide"
    }
   },
   "source": [
    "# Funkcionalno programiranje\n",
    "\n",
    "Amer Hasanović"
   ]
  },
  {
   "cell_type": "markdown",
   "metadata": {
    "slideshow": {
     "slide_type": "slide"
    }
   },
   "source": [
    "## Iznimke\n",
    "\n",
    "Generiranje iznimki u `F#` kodu:\n",
    "\n",
    "* `failwith` - baca iznimku tipa `System.Exception`\n",
    "* `failwithf` - baca formatiranu iznimku tipa `System.Exception`\n",
    "* `invalidArg` - baca iznimku tipa `ArgumentException`\n",
    "* `nullArg` - baca iznimku tipa `NullArgumentException`\n",
    "* `invalidOp` - baca iznimku tipa `InvalidOperationException`"
   ]
  },
  {
   "cell_type": "code",
   "execution_count": 166,
   "metadata": {
    "dotnet_interactive": {
     "language": "fsharp"
    },
    "polyglot_notebook": {
     "kernelName": "fsharp"
    },
    "slideshow": {
     "slide_type": "subslide"
    },
    "vscode": {
     "languageId": "polyglot-notebook"
    }
   },
   "outputs": [
    {
     "ename": "Error",
     "evalue": "System.Exception: Foobar\n   at FSI_0171.foo(Int32 a, Int32 b)\n   at <StartupCode$FSI_0171>.$FSI_0171.main@()\n   at System.RuntimeMethodHandle.InvokeMethod(Object target, Void** arguments, Signature sig, Boolean isConstructor)\n   at System.Reflection.MethodInvoker.Invoke(Object obj, IntPtr* args, BindingFlags invokeAttr)",
     "output_type": "error",
     "traceback": [
      "System.Exception: Foobar\n",
      "   at FSI_0171.foo(Int32 a, Int32 b)\n",
      "   at <StartupCode$FSI_0171>.$FSI_0171.main@()\n",
      "   at System.RuntimeMethodHandle.InvokeMethod(Object target, Void** arguments, Signature sig, Boolean isConstructor)\n",
      "   at System.Reflection.MethodInvoker.Invoke(Object obj, IntPtr* args, BindingFlags invokeAttr)"
     ]
    }
   ],
   "source": [
    "let foo a b = \n",
    "  if b = 0 then \n",
    "    failwith \"Foobar\"\n",
    "  else \n",
    "    a / b\n",
    "\n",
    "foo 5 0"
   ]
  },
  {
   "cell_type": "markdown",
   "metadata": {
    "slideshow": {
     "slide_type": "subslide"
    }
   },
   "source": [
    "\n",
    "Bilo koje `.dotNet` iznimke mogu se generirati putem `raise`"
   ]
  },
  {
   "cell_type": "code",
   "execution_count": 167,
   "metadata": {
    "dotnet_interactive": {
     "language": "fsharp"
    },
    "polyglot_notebook": {
     "kernelName": "fsharp"
    },
    "slideshow": {
     "slide_type": "subslide"
    },
    "vscode": {
     "languageId": "polyglot-notebook"
    }
   },
   "outputs": [
    {
     "ename": "Error",
     "evalue": "System.DivideByZeroException: Attempted to divide by zero.\n   at FSI_0172.foo(Int32 a, Int32 b)\n   at <StartupCode$FSI_0172>.$FSI_0172.main@()\n   at System.RuntimeMethodHandle.InvokeMethod(Object target, Void** arguments, Signature sig, Boolean isConstructor)\n   at System.Reflection.MethodInvoker.Invoke(Object obj, IntPtr* args, BindingFlags invokeAttr)",
     "output_type": "error",
     "traceback": [
      "System.DivideByZeroException: Attempted to divide by zero.\n",
      "   at FSI_0172.foo(Int32 a, Int32 b)\n",
      "   at <StartupCode$FSI_0172>.$FSI_0172.main@()\n",
      "   at System.RuntimeMethodHandle.InvokeMethod(Object target, Void** arguments, Signature sig, Boolean isConstructor)\n",
      "   at System.Reflection.MethodInvoker.Invoke(Object obj, IntPtr* args, BindingFlags invokeAttr)"
     ]
    }
   ],
   "source": [
    "let foo a b = \n",
    "  if b = 0 then \n",
    "    System.DivideByZeroException() |> raise\n",
    "  else \n",
    "    a / b\n",
    "\n",
    "foo 5 0"
   ]
  },
  {
   "cell_type": "markdown",
   "metadata": {
    "slideshow": {
     "slide_type": "subslide"
    }
   },
   "source": [
    "Da bi neki tip mogao biti korišten kao tip za iznimku mora biti u nasljednoj hijerarhiji od tipa `System.Exception`"
   ]
  },
  {
   "cell_type": "markdown",
   "metadata": {
    "slideshow": {
     "slide_type": "subslide"
    }
   },
   "source": [
    "## `F#` iznimke\n",
    "\n",
    "`F#` pojednostavljena definicija novog tipa za iznimke je u formatu:\n",
    "\n",
    "```fsharp\n",
    "exception ImeTipa of PostojeciTip\n",
    "```"
   ]
  },
  {
   "cell_type": "code",
   "execution_count": 168,
   "metadata": {
    "dotnet_interactive": {
     "language": "fsharp"
    },
    "polyglot_notebook": {
     "kernelName": "fsharp"
    },
    "slideshow": {
     "slide_type": "subslide"
    },
    "vscode": {
     "languageId": "polyglot-notebook"
    }
   },
   "outputs": [
    {
     "ename": "Error",
     "evalue": "FSI_0173+DijeljenjeNulom: DijeljenjeNulom \"ouch\"\n   at FSI_0173.foo(Int32 a, Int32 b)\n   at <StartupCode$FSI_0173>.$FSI_0173.main@()\n   at System.RuntimeMethodHandle.InvokeMethod(Object target, Void** arguments, Signature sig, Boolean isConstructor)\n   at System.Reflection.MethodInvoker.Invoke(Object obj, IntPtr* args, BindingFlags invokeAttr)",
     "output_type": "error",
     "traceback": [
      "FSI_0173+DijeljenjeNulom: DijeljenjeNulom \"ouch\"\n",
      "   at FSI_0173.foo(Int32 a, Int32 b)\n",
      "   at <StartupCode$FSI_0173>.$FSI_0173.main@()\n",
      "   at System.RuntimeMethodHandle.InvokeMethod(Object target, Void** arguments, Signature sig, Boolean isConstructor)\n",
      "   at System.Reflection.MethodInvoker.Invoke(Object obj, IntPtr* args, BindingFlags invokeAttr)"
     ]
    }
   ],
   "source": [
    "exception DijeljenjeNulom of string\n",
    "\n",
    "let foo a b = \n",
    "  if b = 0 then \n",
    "    DijeljenjeNulom \"ouch\" |> raise\n",
    "  else \n",
    "    a / b\n",
    "\n",
    "foo 5 0"
   ]
  },
  {
   "cell_type": "markdown",
   "metadata": {
    "slideshow": {
     "slide_type": "slide"
    }
   },
   "source": [
    "## Tretman iznimki\n",
    "\n",
    "Bačena iznimka propagira po sekvenci ugnježdenih poziva funkcija na steku, sve dok u nekoj od funkcija ne bude uhvaćena putem `try` i tretirana putem `with`.\n",
    "\n",
    "* Ukoliko nigdje ne bude tretirana iznimka, runtime terminira program uz odgovarajući ispis u terminalu."
   ]
  },
  {
   "cell_type": "markdown",
   "metadata": {
    "slideshow": {
     "slide_type": "subslide"
    }
   },
   "source": [
    "`try` i `with` **moraju** rezultirati sa vrijednostima istog tipa."
   ]
  },
  {
   "cell_type": "markdown",
   "metadata": {
    "slideshow": {
     "slide_type": "subslide"
    }
   },
   "source": [
    "`with` radi podudaranje uzoraka na bačenoj iznimnoj vrijednosti.\n",
    "\n",
    "* ukoliko je bačena iznimka od nekog `F#` tipa, uzorak za podudranja je konstruktor od tog tipa.\n",
    "* Uzorci `:?` i `as` se koriste za iznimke ostalih `.dotNet` tipova."
   ]
  },
  {
   "cell_type": "code",
   "execution_count": 169,
   "metadata": {
    "dotnet_interactive": {
     "language": "fsharp"
    },
    "polyglot_notebook": {
     "kernelName": "fsharp"
    },
    "slideshow": {
     "slide_type": "subslide"
    },
    "vscode": {
     "languageId": "polyglot-notebook"
    }
   },
   "outputs": [
    {
     "name": "stdout",
     "output_type": "stream",
     "text": [
      "ouch\n"
     ]
    },
    {
     "data": {
      "text/html": [
       "<div class=\"dni-plaintext\"><pre>100</pre></div><style>\r\n",
       ".dni-code-hint {\r\n",
       "    font-style: italic;\r\n",
       "    overflow: hidden;\r\n",
       "    white-space: nowrap;\r\n",
       "}\r\n",
       ".dni-treeview {\r\n",
       "    white-space: nowrap;\r\n",
       "}\r\n",
       ".dni-treeview td {\r\n",
       "    vertical-align: top;\r\n",
       "    text-align: start;\r\n",
       "}\r\n",
       "details.dni-treeview {\r\n",
       "    padding-left: 1em;\r\n",
       "}\r\n",
       "table td {\r\n",
       "    text-align: start;\r\n",
       "}\r\n",
       "table tr { \r\n",
       "    vertical-align: top; \r\n",
       "    margin: 0em 0px;\r\n",
       "}\r\n",
       "table tr td pre \r\n",
       "{ \r\n",
       "    vertical-align: top !important; \r\n",
       "    margin: 0em 0px !important;\r\n",
       "} \r\n",
       "table th {\r\n",
       "    text-align: start;\r\n",
       "}\r\n",
       "</style>"
      ]
     },
     "metadata": {},
     "output_type": "display_data"
    }
   ],
   "source": [
    "exception DijeljenjeNulom of string\n",
    "exception VodaUKoljenu of int\n",
    "\n",
    "let foo a b = \n",
    "  if b = 0 then \n",
    "    DijeljenjeNulom \"ouch\" |> raise\n",
    "  else \n",
    "    a / b\n",
    "\n",
    "try \n",
    "  foo 5 0\n",
    "with \n",
    " | DijeljenjeNulom s -> printfn \"%s\" s; 100\n",
    " | VodaUKoljenu x -> printfn \"%d\" x; -4\n",
    " | :? System.AccessViolationException as e -> printfn \"%A\" e; 22\n",
    " | _ -> 300"
   ]
  },
  {
   "cell_type": "markdown",
   "metadata": {
    "slideshow": {
     "slide_type": "subslide"
    }
   },
   "source": [
    "`try-finally` je varijanta `try` u kojoj se `finally` blok uvijek izvrši, pri čemu `finally` blok mora vraćati `()`\n",
    " \n",
    "* `try-finally` se ne može direktno komponovati sa `with`"
   ]
  },
  {
   "cell_type": "code",
   "execution_count": 170,
   "metadata": {
    "dotnet_interactive": {
     "language": "fsharp"
    },
    "polyglot_notebook": {
     "kernelName": "fsharp"
    },
    "slideshow": {
     "slide_type": "subslide"
    },
    "vscode": {
     "languageId": "polyglot-notebook"
    }
   },
   "outputs": [
    {
     "name": "stdout",
     "output_type": "stream",
     "text": [
      "Uvijek se izvršim\n",
      "2\n",
      "Uvijek se izvršim\n",
      "Dijeljenje sa nulom\n",
      "22\n"
     ]
    }
   ],
   "source": [
    "let bar x y =\n",
    "  try \n",
    "    try \n",
    "      x / y\n",
    "    finally \n",
    "      printfn \"Uvijek se izvršim\"\n",
    "  with \n",
    "  | :? System.DivideByZeroException -> printfn \"Dijeljenje sa nulom\"; 22\n",
    "\n",
    "bar 8 4 |> printfn \"%d\"\n",
    "bar 5 0 |> printfn \"%d\""
   ]
  },
  {
   "cell_type": "markdown",
   "metadata": {
    "slideshow": {
     "slide_type": "slide"
    }
   },
   "source": [
    "Umjesto iznimki u funkcionalnom kodu se preferiraju potpune funkcije koje vraćaju `Option` ili `Result`.\n",
    "\n",
    "* Prilikom interakcije sa imperativnim kodom iz `dotNet` biblioteka preporučljivo je napraviti tzv wrapper funkciju koja normalizira potencijalno bačene iznimke."
   ]
  },
  {
   "cell_type": "code",
   "execution_count": 171,
   "metadata": {
    "dotnet_interactive": {
     "language": "fsharp"
    },
    "polyglot_notebook": {
     "kernelName": "fsharp"
    },
    "slideshow": {
     "slide_type": "subslide"
    },
    "vscode": {
     "languageId": "polyglot-notebook"
    }
   },
   "outputs": [
    {
     "name": "stdout",
     "output_type": "stream",
     "text": [
      "Some 2\n",
      "None\n"
     ]
    }
   ],
   "source": [
    "let someLibFun x y = x / y\n",
    "\n",
    "let trySomeLibFun x y =\n",
    "   try\n",
    "       someLibFun x y |> Some\n",
    "   with\n",
    "   | :? System.DivideByZeroException -> None \n",
    "\n",
    "trySomeLibFun 8 4 |> printfn \"%A\"\n",
    "trySomeLibFun 8 0 |> printfn \"%A\""
   ]
  },
  {
   "cell_type": "markdown",
   "metadata": {
    "slideshow": {
     "slide_type": "slide"
    }
   },
   "source": [
    "## `F#` kolekcije\n",
    "\n",
    "`F#` definira tri ugrađena kontejnera koji ne podržavaju mutacije, i to:\n",
    "\n",
    "* `list`\n",
    "* `set`\n",
    "* `map`"
   ]
  },
  {
   "cell_type": "markdown",
   "metadata": {
    "slideshow": {
     "slide_type": "slide"
    }
   },
   "source": [
    "## `list` kontejner"
   ]
  },
  {
   "cell_type": "code",
   "execution_count": 172,
   "metadata": {
    "dotnet_interactive": {
     "language": "fsharp"
    },
    "polyglot_notebook": {
     "kernelName": "fsharp"
    },
    "slideshow": {
     "slide_type": "subslide"
    },
    "vscode": {
     "languageId": "polyglot-notebook"
    }
   },
   "outputs": [],
   "source": [
    "let t1 : list<int> = 0::2::4::6::8::10::[]\n",
    "let t2 : int list  = [0; 2; 4; 6; 8; 10]"
   ]
  },
  {
   "cell_type": "code",
   "execution_count": 173,
   "metadata": {
    "dotnet_interactive": {
     "language": "fsharp"
    },
    "polyglot_notebook": {
     "kernelName": "fsharp"
    },
    "slideshow": {
     "slide_type": "fragment"
    },
    "vscode": {
     "languageId": "polyglot-notebook"
    }
   },
   "outputs": [],
   "source": [
    "let t3 = [0..2..10]"
   ]
  },
  {
   "cell_type": "code",
   "execution_count": 174,
   "metadata": {
    "dotnet_interactive": {
     "language": "fsharp"
    },
    "polyglot_notebook": {
     "kernelName": "fsharp"
    },
    "slideshow": {
     "slide_type": "fragment"
    },
    "vscode": {
     "languageId": "polyglot-notebook"
    }
   },
   "outputs": [],
   "source": [
    "let t4 = [ for i in 0..10 do \n",
    "             if i % 2 = 0 then i \n",
    "         ]"
   ]
  },
  {
   "cell_type": "code",
   "execution_count": 175,
   "metadata": {
    "dotnet_interactive": {
     "language": "fsharp"
    },
    "polyglot_notebook": {
     "kernelName": "fsharp"
    },
    "slideshow": {
     "slide_type": "fragment"
    },
    "vscode": {
     "languageId": "polyglot-notebook"
    }
   },
   "outputs": [],
   "source": [
    "let t5 = List.init 6 (fun i -> i*2) "
   ]
  },
  {
   "cell_type": "code",
   "execution_count": 176,
   "metadata": {
    "dotnet_interactive": {
     "language": "fsharp"
    },
    "polyglot_notebook": {
     "kernelName": "fsharp"
    },
    "slideshow": {
     "slide_type": "fragment"
    },
    "vscode": {
     "languageId": "polyglot-notebook"
    }
   },
   "outputs": [
    {
     "data": {
      "text/html": [
       "<div class=\"dni-plaintext\"><pre>True</pre></div><style>\r\n",
       ".dni-code-hint {\r\n",
       "    font-style: italic;\r\n",
       "    overflow: hidden;\r\n",
       "    white-space: nowrap;\r\n",
       "}\r\n",
       ".dni-treeview {\r\n",
       "    white-space: nowrap;\r\n",
       "}\r\n",
       ".dni-treeview td {\r\n",
       "    vertical-align: top;\r\n",
       "    text-align: start;\r\n",
       "}\r\n",
       "details.dni-treeview {\r\n",
       "    padding-left: 1em;\r\n",
       "}\r\n",
       "table td {\r\n",
       "    text-align: start;\r\n",
       "}\r\n",
       "table tr { \r\n",
       "    vertical-align: top; \r\n",
       "    margin: 0em 0px;\r\n",
       "}\r\n",
       "table tr td pre \r\n",
       "{ \r\n",
       "    vertical-align: top !important; \r\n",
       "    margin: 0em 0px !important;\r\n",
       "} \r\n",
       "table th {\r\n",
       "    text-align: start;\r\n",
       "}\r\n",
       "</style>"
      ]
     },
     "metadata": {},
     "output_type": "display_data"
    }
   ],
   "source": [
    "t2 = t1 && t3 = t2 && t4 = t1 && t5 = t3"
   ]
  },
  {
   "cell_type": "code",
   "execution_count": 177,
   "metadata": {
    "dotnet_interactive": {
     "language": "fsharp"
    },
    "polyglot_notebook": {
     "kernelName": "fsharp"
    },
    "slideshow": {
     "slide_type": "subslide"
    },
    "vscode": {
     "languageId": "polyglot-notebook"
    }
   },
   "outputs": [
    {
     "name": "stdout",
     "output_type": "stream",
     "text": [
      "[(-3, 0); (-3, 2); (-3, 4); (-2, 0); (-2, 2); (-2, 4); (-1, 0); (-1, 2); (-1, 4);\n",
      " (0, 0); (0, 2); (0, 4); (1, 0); (1, 2); (1, 4)]\n"
     ]
    }
   ],
   "source": [
    "let t6 = [ for i in -3..1 do \n",
    "             for j in 0..2..5 -> (i,j)\n",
    "         ]\n",
    "t6 |> printfn \"%A\""
   ]
  },
  {
   "cell_type": "code",
   "execution_count": 178,
   "metadata": {
    "dotnet_interactive": {
     "language": "fsharp"
    },
    "polyglot_notebook": {
     "kernelName": "fsharp"
    },
    "slideshow": {
     "slide_type": "fragment"
    },
    "vscode": {
     "languageId": "polyglot-notebook"
    }
   },
   "outputs": [
    {
     "name": "stdout",
     "output_type": "stream",
     "text": [
      "true\n"
     ]
    }
   ],
   "source": [
    "let t7 = [ for i in -3..1 do \n",
    "             for j in 0..2..5 do\n",
    "              (i,j)\n",
    "         ]\n",
    "t7 = t6 |> printfn \"%A\""
   ]
  },
  {
   "cell_type": "code",
   "execution_count": 179,
   "metadata": {
    "dotnet_interactive": {
     "language": "fsharp"
    },
    "polyglot_notebook": {
     "kernelName": "fsharp"
    },
    "slideshow": {
     "slide_type": "subslide"
    },
    "vscode": {
     "languageId": "polyglot-notebook"
    }
   },
   "outputs": [],
   "source": [
    "let foo l = \n",
    "  match l with\n",
    "  | [] -> \"Prazan\"\n",
    "  | [_; b] -> $\"{b}\"\n",
    "  | a::_::c::[] -> $\"{a} {c}\"\n",
    "  | _::xs -> $\"{xs}\""
   ]
  },
  {
   "cell_type": "code",
   "execution_count": 180,
   "metadata": {
    "dotnet_interactive": {
     "language": "fsharp"
    },
    "polyglot_notebook": {
     "kernelName": "fsharp"
    },
    "slideshow": {
     "slide_type": "fragment"
    },
    "vscode": {
     "languageId": "polyglot-notebook"
    }
   },
   "outputs": [
    {
     "name": "stdout",
     "output_type": "stream",
     "text": [
      "\"[3; 4; 5; ... ]\"\n",
      "\"1 4\"\n",
      "\"(4, 5)\"\n"
     ]
    }
   ],
   "source": [
    "[2..8] |> foo |> printfn \"%A\"\n",
    "[1;3;4] |> foo |> printfn \"%A\"\n",
    "[(3,1); (4,5)] |> foo |> printfn \"%A\""
   ]
  },
  {
   "cell_type": "code",
   "execution_count": 181,
   "metadata": {
    "dotnet_interactive": {
     "language": "fsharp"
    },
    "polyglot_notebook": {
     "kernelName": "fsharp"
    },
    "slideshow": {
     "slide_type": "subslide"
    },
    "vscode": {
     "languageId": "polyglot-notebook"
    }
   },
   "outputs": [
    {
     "name": "stdout",
     "output_type": "stream",
     "text": [
      "[2; 3; -4; -3; -2; -1]\n"
     ]
    }
   ],
   "source": [
    "[2;3] @ [-4..-1] |> printfn \"%A\""
   ]
  },
  {
   "cell_type": "code",
   "execution_count": 182,
   "metadata": {
    "dotnet_interactive": {
     "language": "fsharp"
    },
    "polyglot_notebook": {
     "kernelName": "fsharp"
    },
    "slideshow": {
     "slide_type": "subslide"
    },
    "vscode": {
     "languageId": "polyglot-notebook"
    }
   },
   "outputs": [],
   "source": [
    "let z = [2;3;8;-4;1;5]"
   ]
  },
  {
   "cell_type": "code",
   "execution_count": 183,
   "metadata": {
    "dotnet_interactive": {
     "language": "fsharp"
    },
    "polyglot_notebook": {
     "kernelName": "fsharp"
    },
    "slideshow": {
     "slide_type": "fragment"
    },
    "vscode": {
     "languageId": "polyglot-notebook"
    }
   },
   "outputs": [
    {
     "name": "stdout",
     "output_type": "stream",
     "text": [
      "[1; 5]\n",
      "[2; 3; 8; -4]\n",
      "[8; -4; 1]\n",
      "[8; -4; 1; 5]\n"
     ]
    },
    {
     "ename": "Error",
     "evalue": "System.ArgumentException: The index was outside the range of elements in the list. (Parameter 'n')\n   at Microsoft.FSharp.Collections.PrivateListHelpers.nth[a](FSharpList`1 l, Int32 n) in D:\\a\\_work\\1\\s\\src\\FSharp.Core\\prim-types.fs:line 4088\n   at Microsoft.FSharp.Collections.FSharpList`1.get_Item(Int32 index) in D:\\a\\_work\\1\\s\\src\\FSharp.Core\\prim-types.fs:line 4149\n   at <StartupCode$FSI_0188>.$FSI_0188.main@()\n   at System.RuntimeMethodHandle.InvokeMethod(Object target, Void** arguments, Signature sig, Boolean isConstructor)\n   at System.Reflection.MethodInvoker.Invoke(Object obj, IntPtr* args, BindingFlags invokeAttr)",
     "output_type": "error",
     "traceback": [
      "System.ArgumentException: The index was outside the range of elements in the list. (Parameter 'n')\n",
      "   at Microsoft.FSharp.Collections.PrivateListHelpers.nth[a](FSharpList`1 l, Int32 n) in D:\\a\\_work\\1\\s\\src\\FSharp.Core\\prim-types.fs:line 4088\n",
      "   at Microsoft.FSharp.Collections.FSharpList`1.get_Item(Int32 index) in D:\\a\\_work\\1\\s\\src\\FSharp.Core\\prim-types.fs:line 4149\n",
      "   at <StartupCode$FSI_0188>.$FSI_0188.main@()\n",
      "   at System.RuntimeMethodHandle.InvokeMethod(Object target, Void** arguments, Signature sig, Boolean isConstructor)\n",
      "   at System.Reflection.MethodInvoker.Invoke(Object obj, IntPtr* args, BindingFlags invokeAttr)"
     ]
    }
   ],
   "source": [
    "z[4..] |> printfn \"%A\"\n",
    "z[..3] |> printfn \"%A\"\n",
    "z[2..4] |> printfn \"%A\"\n",
    "z[2..100] |> printfn \"%A\"\n",
    "z[100] |> printfn \"%A\"\n"
   ]
  },
  {
   "cell_type": "code",
   "execution_count": 184,
   "metadata": {
    "dotnet_interactive": {
     "language": "fsharp"
    },
    "polyglot_notebook": {
     "kernelName": "fsharp"
    },
    "slideshow": {
     "slide_type": "subslide"
    },
    "vscode": {
     "languageId": "polyglot-notebook"
    }
   },
   "outputs": [],
   "source": [
    "let z = [2;3;8;-4;1;5;3;2;18]"
   ]
  },
  {
   "cell_type": "code",
   "execution_count": 185,
   "metadata": {
    "dotnet_interactive": {
     "language": "fsharp"
    },
    "polyglot_notebook": {
     "kernelName": "fsharp"
    },
    "slideshow": {
     "slide_type": "fragment"
    },
    "vscode": {
     "languageId": "polyglot-notebook"
    }
   },
   "outputs": [
    {
     "name": "stdout",
     "output_type": "stream",
     "text": [
      "[2; 3; 8]\n"
     ]
    }
   ],
   "source": [
    "z |> List.take 3 |> printfn \"%A\""
   ]
  },
  {
   "cell_type": "code",
   "execution_count": 186,
   "metadata": {
    "dotnet_interactive": {
     "language": "fsharp"
    },
    "polyglot_notebook": {
     "kernelName": "fsharp"
    },
    "slideshow": {
     "slide_type": "fragment"
    },
    "vscode": {
     "languageId": "polyglot-notebook"
    }
   },
   "outputs": [
    {
     "name": "stdout",
     "output_type": "stream",
     "text": [
      "[-4; 1; 5; 3; 2; 18]\n"
     ]
    }
   ],
   "source": [
    "z |> List.skip 3 |> printfn \"%A\""
   ]
  },
  {
   "cell_type": "code",
   "execution_count": 187,
   "metadata": {
    "dotnet_interactive": {
     "language": "fsharp"
    },
    "polyglot_notebook": {
     "kernelName": "fsharp"
    },
    "slideshow": {
     "slide_type": "fragment"
    },
    "vscode": {
     "languageId": "polyglot-notebook"
    }
   },
   "outputs": [
    {
     "name": "stdout",
     "output_type": "stream",
     "text": [
      "[(2, 3); (3, 8); (8, -4); (-4, 1); (1, 5); (5, 3); (3, 2); (2, 18)]\n"
     ]
    }
   ],
   "source": [
    "z |> List.pairwise |> printfn \"%A\""
   ]
  },
  {
   "cell_type": "code",
   "execution_count": 188,
   "metadata": {
    "dotnet_interactive": {
     "language": "fsharp"
    },
    "polyglot_notebook": {
     "kernelName": "fsharp"
    },
    "slideshow": {
     "slide_type": "subslide"
    },
    "vscode": {
     "languageId": "polyglot-notebook"
    }
   },
   "outputs": [],
   "source": [
    "let z = [2;3;8;-4;1;5;3;2;18;3;3]"
   ]
  },
  {
   "cell_type": "code",
   "execution_count": 189,
   "metadata": {
    "dotnet_interactive": {
     "language": "fsharp"
    },
    "polyglot_notebook": {
     "kernelName": "fsharp"
    },
    "slideshow": {
     "slide_type": "subslide"
    },
    "vscode": {
     "languageId": "polyglot-notebook"
    }
   },
   "outputs": [
    {
     "name": "stdout",
     "output_type": "stream",
     "text": [
      "[\"2\"; \"3\"; \"8\"; \"-4\"; \"1\"; \"5\"; \"3\"; \"2\"; \"18\"; \"3\"; \"3\"]\n"
     ]
    }
   ],
   "source": [
    "z |> List.map ( fun e -> string e ) |> printfn \"%A\""
   ]
  },
  {
   "cell_type": "code",
   "execution_count": 190,
   "metadata": {
    "dotnet_interactive": {
     "language": "fsharp"
    },
    "polyglot_notebook": {
     "kernelName": "fsharp"
    },
    "slideshow": {
     "slide_type": "subslide"
    },
    "vscode": {
     "languageId": "polyglot-notebook"
    }
   },
   "outputs": [
    {
     "name": "stdout",
     "output_type": "stream",
     "text": [
      "[\"0 -> 2\"; \"1 -> 3\"; \"2 -> 8\"; \"3 -> -4\"; \"4 -> 1\"; \"5 -> 5\"; \"6 -> 3\"; \"7 -> 2\";\n",
      " \"8 -> 18\"; \"9 -> 3\"; \"10 -> 3\"]\n"
     ]
    }
   ],
   "source": [
    "z |> List.mapi ( fun i e -> $\"{i} -> {e}\" ) |> printfn \"%A\""
   ]
  },
  {
   "cell_type": "code",
   "execution_count": 191,
   "metadata": {
    "dotnet_interactive": {
     "language": "fsharp"
    },
    "polyglot_notebook": {
     "kernelName": "fsharp"
    },
    "slideshow": {
     "slide_type": "subslide"
    },
    "vscode": {
     "languageId": "polyglot-notebook"
    }
   },
   "outputs": [
    {
     "name": "stdout",
     "output_type": "stream",
     "text": [
      "[3; 3; 18; 2; 3; 5; 1; -4; 8; 3; 2]\n"
     ]
    }
   ],
   "source": [
    "z |> List.fold ( fun a e -> e :: a) [] |> printfn \"%A\""
   ]
  },
  {
   "cell_type": "code",
   "execution_count": 192,
   "metadata": {
    "dotnet_interactive": {
     "language": "fsharp"
    },
    "polyglot_notebook": {
     "kernelName": "fsharp"
    },
    "slideshow": {
     "slide_type": "subslide"
    },
    "vscode": {
     "languageId": "polyglot-notebook"
    }
   },
   "outputs": [
    {
     "name": "stdout",
     "output_type": "stream",
     "text": [
      "[2; 3; 8; -4; 1; 5; 3; 2; 18; 3; 3]\n"
     ]
    }
   ],
   "source": [
    "List.foldBack ( fun e a -> e :: a) z [] |> printfn \"%A\""
   ]
  },
  {
   "cell_type": "code",
   "execution_count": 193,
   "metadata": {
    "dotnet_interactive": {
     "language": "fsharp"
    },
    "polyglot_notebook": {
     "kernelName": "fsharp"
    },
    "slideshow": {
     "slide_type": "subslide"
    },
    "vscode": {
     "languageId": "polyglot-notebook"
    }
   },
   "outputs": [
    {
     "name": "stdout",
     "output_type": "stream",
     "text": [
      "44\n"
     ]
    }
   ],
   "source": [
    "z |> List.reduce (+) |> printfn \"%A\""
   ]
  },
  {
   "cell_type": "code",
   "execution_count": 194,
   "metadata": {
    "dotnet_interactive": {
     "language": "fsharp"
    },
    "polyglot_notebook": {
     "kernelName": "fsharp"
    },
    "slideshow": {
     "slide_type": "subslide"
    },
    "vscode": {
     "languageId": "polyglot-notebook"
    }
   },
   "outputs": [
    {
     "name": "stdout",
     "output_type": "stream",
     "text": [
      "[0; 2; 5; 13; 9; 10; 15; 18; 20; 38; 41; 44]\n"
     ]
    }
   ],
   "source": [
    "z |> List.scan (+) 0 |> printfn \"%A\""
   ]
  },
  {
   "cell_type": "code",
   "execution_count": 195,
   "metadata": {
    "dotnet_interactive": {
     "language": "fsharp"
    },
    "polyglot_notebook": {
     "kernelName": "fsharp"
    },
    "slideshow": {
     "slide_type": "subslide"
    },
    "vscode": {
     "languageId": "polyglot-notebook"
    }
   },
   "outputs": [
    {
     "name": "stdout",
     "output_type": "stream",
     "text": [
      "[3; 3; 18; 3; 3]\n"
     ]
    }
   ],
   "source": [
    "z |> List.filter ( fun e -> e % 3 = 0) |> printfn \"%A\""
   ]
  },
  {
   "cell_type": "code",
   "execution_count": 196,
   "metadata": {
    "dotnet_interactive": {
     "language": "fsharp"
    },
    "polyglot_notebook": {
     "kernelName": "fsharp"
    },
    "slideshow": {
     "slide_type": "subslide"
    },
    "vscode": {
     "languageId": "polyglot-notebook"
    }
   },
   "outputs": [
    {
     "name": "stdout",
     "output_type": "stream",
     "text": [
      "[3; 8; 5; 3; 18; 3; 3]\n"
     ]
    }
   ],
   "source": [
    "z |> List.choose ( fun e -> if e > 2 then Some e else None) |> printfn \"%A\""
   ]
  },
  {
   "cell_type": "code",
   "execution_count": 197,
   "metadata": {
    "dotnet_interactive": {
     "language": "fsharp"
    },
    "polyglot_notebook": {
     "kernelName": "fsharp"
    },
    "slideshow": {
     "slide_type": "subslide"
    },
    "vscode": {
     "languageId": "polyglot-notebook"
    }
   },
   "outputs": [
    {
     "name": "stdout",
     "output_type": "stream",
     "text": [
      "[(2, [2; 2]); (3, [3; 3; 3; 3]); (8, [8]); (-4, [-4]); (1, [1]); (5, [5]);\n",
      " (18, [18])]\n"
     ]
    }
   ],
   "source": [
    "z |> List.groupBy (id) |> printfn \"%A\""
   ]
  },
  {
   "cell_type": "code",
   "execution_count": 198,
   "metadata": {
    "dotnet_interactive": {
     "language": "fsharp"
    },
    "polyglot_notebook": {
     "kernelName": "fsharp"
    },
    "slideshow": {
     "slide_type": "subslide"
    },
    "vscode": {
     "languageId": "polyglot-notebook"
    }
   },
   "outputs": [
    {
     "name": "stdout",
     "output_type": "stream",
     "text": [
      "[(2, 2); (3, 4); (8, 1); (-4, 1); (1, 1); (5, 1); (18, 1)]\n"
     ]
    }
   ],
   "source": [
    "z |> List.countBy (id) |> printfn \"%A\""
   ]
  },
  {
   "cell_type": "code",
   "execution_count": 199,
   "metadata": {
    "dotnet_interactive": {
     "language": "fsharp"
    },
    "polyglot_notebook": {
     "kernelName": "fsharp"
    },
    "slideshow": {
     "slide_type": "subslide"
    },
    "vscode": {
     "languageId": "polyglot-notebook"
    }
   },
   "outputs": [
    {
     "name": "stdout",
     "output_type": "stream",
     "text": [
      "([3; 3; 18; 3; 3], [2; 8; -4; 1; 5; 2])\n"
     ]
    }
   ],
   "source": [
    "z |> List.partition ( fun e -> e % 3 = 0) |> printfn \"%A\""
   ]
  },
  {
   "cell_type": "code",
   "execution_count": 200,
   "metadata": {
    "dotnet_interactive": {
     "language": "fsharp"
    },
    "polyglot_notebook": {
     "kernelName": "fsharp"
    },
    "slideshow": {
     "slide_type": "subslide"
    },
    "vscode": {
     "languageId": "polyglot-notebook"
    }
   },
   "outputs": [
    {
     "name": "stdout",
     "output_type": "stream",
     "text": [
      "true\n"
     ]
    }
   ],
   "source": [
    "z |> List.contains 5 |> printfn \"%A\""
   ]
  },
  {
   "cell_type": "code",
   "execution_count": 201,
   "metadata": {
    "dotnet_interactive": {
     "language": "fsharp"
    },
    "polyglot_notebook": {
     "kernelName": "fsharp"
    },
    "slideshow": {
     "slide_type": "subslide"
    },
    "vscode": {
     "languageId": "polyglot-notebook"
    }
   },
   "outputs": [
    {
     "name": "stdout",
     "output_type": "stream",
     "text": [
      "true\n"
     ]
    }
   ],
   "source": [
    "z |> List.exists ( fun e -> e % 2 = 0) |> printfn \"%A\""
   ]
  },
  {
   "cell_type": "code",
   "execution_count": 202,
   "metadata": {
    "dotnet_interactive": {
     "language": "fsharp"
    },
    "polyglot_notebook": {
     "kernelName": "fsharp"
    },
    "slideshow": {
     "slide_type": "subslide"
    },
    "vscode": {
     "languageId": "polyglot-notebook"
    }
   },
   "outputs": [
    {
     "name": "stdout",
     "output_type": "stream",
     "text": [
      "Some 18\n"
     ]
    }
   ],
   "source": [
    "z |> List.tryFind ( fun e -> e % 9 = 0) |> printfn \"%A\""
   ]
  },
  {
   "cell_type": "code",
   "execution_count": 203,
   "metadata": {
    "dotnet_interactive": {
     "language": "fsharp"
    },
    "polyglot_notebook": {
     "kernelName": "fsharp"
    },
    "slideshow": {
     "slide_type": "subslide"
    },
    "vscode": {
     "languageId": "polyglot-notebook"
    }
   },
   "outputs": [
    {
     "name": "stdout",
     "output_type": "stream",
     "text": [
      "false\n"
     ]
    }
   ],
   "source": [
    "z |> List.forall ( fun e -> e % 3 = 0) |> printfn \"%A\""
   ]
  },
  {
   "cell_type": "code",
   "execution_count": 204,
   "metadata": {
    "dotnet_interactive": {
     "language": "fsharp"
    },
    "polyglot_notebook": {
     "kernelName": "fsharp"
    },
    "slideshow": {
     "slide_type": "subslide"
    },
    "vscode": {
     "languageId": "polyglot-notebook"
    }
   },
   "outputs": [
    {
     "name": "stdout",
     "output_type": "stream",
     "text": [
      "[-4; 1; 2; 2; 3; 3; 3; 3; 5; 8; 18]\n"
     ]
    }
   ],
   "source": [
    "z |> List.sort |> printfn \"%A\""
   ]
  },
  {
   "cell_type": "code",
   "execution_count": 205,
   "metadata": {
    "dotnet_interactive": {
     "language": "fsharp"
    },
    "polyglot_notebook": {
     "kernelName": "fsharp"
    },
    "slideshow": {
     "slide_type": "subslide"
    },
    "vscode": {
     "languageId": "polyglot-notebook"
    }
   },
   "outputs": [
    {
     "name": "stdout",
     "output_type": "stream",
     "text": [
      "[18; 8; 5; 3; 3; 3; 3; 2; 2; 1; -4]\n"
     ]
    }
   ],
   "source": [
    "z |> List.sortBy (fun x -> -x) |> printfn \"%A\""
   ]
  },
  {
   "cell_type": "code",
   "execution_count": 206,
   "metadata": {
    "dotnet_interactive": {
     "language": "fsharp"
    },
    "polyglot_notebook": {
     "kernelName": "fsharp"
    },
    "slideshow": {
     "slide_type": "subslide"
    },
    "vscode": {
     "languageId": "polyglot-notebook"
    }
   },
   "outputs": [
    {
     "name": "stdout",
     "output_type": "stream",
     "text": [
      "[18; 8; 5; 3; 3; 3; 3; 2; 2; 1; -4]\n"
     ]
    }
   ],
   "source": [
    "z |> List.sortWith (fun a b -> compare b a) |> printfn \"%A\""
   ]
  },
  {
   "cell_type": "code",
   "execution_count": 207,
   "metadata": {
    "dotnet_interactive": {
     "language": "fsharp"
    },
    "polyglot_notebook": {
     "kernelName": "fsharp"
    },
    "slideshow": {
     "slide_type": "subslide"
    },
    "vscode": {
     "languageId": "polyglot-notebook"
    }
   },
   "outputs": [
    {
     "name": "stdout",
     "output_type": "stream",
     "text": [
      "2 3 8 -4 1 5 3 2 18 3 3 "
     ]
    }
   ],
   "source": [
    "z |> List.iter (fun e -> e |> printf \"%d \")"
   ]
  },
  {
   "cell_type": "code",
   "execution_count": 208,
   "metadata": {
    "dotnet_interactive": {
     "language": "fsharp"
    },
    "polyglot_notebook": {
     "kernelName": "fsharp"
    },
    "slideshow": {
     "slide_type": "subslide"
    },
    "vscode": {
     "languageId": "polyglot-notebook"
    }
   },
   "outputs": [
    {
     "name": "stdout",
     "output_type": "stream",
     "text": [
      "[\"f\"; \"f\"; \"f\"; \"f\"]\n"
     ]
    }
   ],
   "source": [
    "List.replicate 4 \"f\" |> printfn \"%A\""
   ]
  },
  {
   "cell_type": "code",
   "execution_count": 209,
   "metadata": {
    "dotnet_interactive": {
     "language": "fsharp"
    },
    "polyglot_notebook": {
     "kernelName": "fsharp"
    },
    "slideshow": {
     "slide_type": "subslide"
    },
    "vscode": {
     "languageId": "polyglot-notebook"
    }
   },
   "outputs": [
    {
     "name": "stdout",
     "output_type": "stream",
     "text": [
      "[0; 1; 0; 1; 2; 0; 1; 2; 3]\n"
     ]
    }
   ],
   "source": [
    "[1..3] |> List.collect ( fun e -> [0..e]) |> printfn \"%A\""
   ]
  },
  {
   "cell_type": "code",
   "execution_count": 210,
   "metadata": {
    "dotnet_interactive": {
     "language": "fsharp"
    },
    "polyglot_notebook": {
     "kernelName": "fsharp"
    },
    "slideshow": {
     "slide_type": "subslide"
    },
    "vscode": {
     "languageId": "polyglot-notebook"
    }
   },
   "outputs": [
    {
     "name": "stdout",
     "output_type": "stream",
     "text": [
      "[0; 1; 0; 1; 2; 0; 1; 2; 3]\n"
     ]
    }
   ],
   "source": [
    "[ for i in [1..3] do \n",
    "   for j in [0..i] -> j ] |> printfn \"%A\""
   ]
  },
  {
   "cell_type": "markdown",
   "metadata": {
    "slideshow": {
     "slide_type": "slide"
    }
   },
   "source": [
    "## `set` kontejner"
   ]
  },
  {
   "cell_type": "code",
   "execution_count": 211,
   "metadata": {
    "dotnet_interactive": {
     "language": "fsharp"
    },
    "polyglot_notebook": {
     "kernelName": "fsharp"
    },
    "slideshow": {
     "slide_type": "subslide"
    },
    "vscode": {
     "languageId": "polyglot-notebook"
    }
   },
   "outputs": [],
   "source": [
    "let z = [2;3;8;-4;1;5;3;2;18;3;3] |> Set.ofList\n",
    "let p = Set.empty |> Set.add 3 |> Set.add 100 |> Set.add 18\n",
    "let t = set [3;3;4]"
   ]
  },
  {
   "cell_type": "code",
   "execution_count": 212,
   "metadata": {
    "dotnet_interactive": {
     "language": "fsharp"
    },
    "polyglot_notebook": {
     "kernelName": "fsharp"
    },
    "slideshow": {
     "slide_type": "fragment"
    },
    "vscode": {
     "languageId": "polyglot-notebook"
    }
   },
   "outputs": [
    {
     "name": "stdout",
     "output_type": "stream",
     "text": [
      "set [-4; 1; 2; 3; 5; 8; 18]\n",
      "set [3; 18; 100]\n",
      "set [3; 4]\n"
     ]
    }
   ],
   "source": [
    "z |> printfn \"%A\"\n",
    "p |> printfn \"%A\"\n",
    "t |> printfn \"%A\""
   ]
  },
  {
   "cell_type": "code",
   "execution_count": 213,
   "metadata": {
    "dotnet_interactive": {
     "language": "fsharp"
    },
    "polyglot_notebook": {
     "kernelName": "fsharp"
    },
    "slideshow": {
     "slide_type": "fragment"
    },
    "vscode": {
     "languageId": "polyglot-notebook"
    }
   },
   "outputs": [
    {
     "name": "stdout",
     "output_type": "stream",
     "text": [
      "set [-4; 1; 2; 5; 8]\n",
      "set [100]\n",
      "set [-4; 1; 2; 3; 5; 8; 18; 100]\n"
     ]
    }
   ],
   "source": [
    "z - p |> printfn \"%A\"\n",
    "p - z |> printfn \"%A\"\n",
    "p + z |> printfn \"%A\""
   ]
  },
  {
   "cell_type": "code",
   "execution_count": 214,
   "metadata": {
    "dotnet_interactive": {
     "language": "fsharp"
    },
    "polyglot_notebook": {
     "kernelName": "fsharp"
    },
    "slideshow": {
     "slide_type": "subslide"
    },
    "vscode": {
     "languageId": "polyglot-notebook"
    }
   },
   "outputs": [
    {
     "name": "stdout",
     "output_type": "stream",
     "text": [
      "false\n"
     ]
    }
   ],
   "source": [
    "Set.isSubset p z |> printfn \"%A\""
   ]
  },
  {
   "cell_type": "code",
   "execution_count": 215,
   "metadata": {
    "dotnet_interactive": {
     "language": "fsharp"
    },
    "polyglot_notebook": {
     "kernelName": "fsharp"
    },
    "slideshow": {
     "slide_type": "subslide"
    },
    "vscode": {
     "languageId": "polyglot-notebook"
    }
   },
   "outputs": [
    {
     "name": "stdout",
     "output_type": "stream",
     "text": [
      "true\n"
     ]
    }
   ],
   "source": [
    "Set.isSubset (p |> Set.remove 100) z |> printfn \"%A\""
   ]
  },
  {
   "cell_type": "code",
   "execution_count": 216,
   "metadata": {
    "dotnet_interactive": {
     "language": "fsharp"
    },
    "polyglot_notebook": {
     "kernelName": "fsharp"
    },
    "slideshow": {
     "slide_type": "subslide"
    },
    "vscode": {
     "languageId": "polyglot-notebook"
    }
   },
   "outputs": [
    {
     "name": "stdout",
     "output_type": "stream",
     "text": [
      "true\n"
     ]
    }
   ],
   "source": [
    "Set.isSuperset z (p |> Set.remove 100) |> printfn \"%A\""
   ]
  },
  {
   "cell_type": "code",
   "execution_count": 217,
   "metadata": {
    "dotnet_interactive": {
     "language": "fsharp"
    },
    "polyglot_notebook": {
     "kernelName": "fsharp"
    },
    "slideshow": {
     "slide_type": "subslide"
    },
    "vscode": {
     "languageId": "polyglot-notebook"
    }
   },
   "outputs": [
    {
     "name": "stdout",
     "output_type": "stream",
     "text": [
      "set [\"-4\"; \"1\"; \"18\"; \"2\"; \"3\"; \"5\"; \"8\"]\n"
     ]
    }
   ],
   "source": [
    "z |> Set.map (fun e -> string e) |> printfn \"%A\""
   ]
  },
  {
   "cell_type": "markdown",
   "metadata": {
    "slideshow": {
     "slide_type": "slide"
    }
   },
   "source": [
    "## `map` kontejner"
   ]
  },
  {
   "cell_type": "code",
   "execution_count": 218,
   "metadata": {
    "dotnet_interactive": {
     "language": "fsharp"
    },
    "polyglot_notebook": {
     "kernelName": "fsharp"
    },
    "slideshow": {
     "slide_type": "subslide"
    },
    "vscode": {
     "languageId": "polyglot-notebook"
    }
   },
   "outputs": [],
   "source": [
    "let z = [\"foo\",3; \"bar\",-1; \"tar\", 8] |> Map.ofList\n",
    "let p = Map.empty |> Map.add \"foo\" 3 |> Map.add \"bar\" -1"
   ]
  },
  {
   "cell_type": "code",
   "execution_count": 219,
   "metadata": {
    "dotnet_interactive": {
     "language": "fsharp"
    },
    "polyglot_notebook": {
     "kernelName": "fsharp"
    },
    "slideshow": {
     "slide_type": "fragment"
    },
    "vscode": {
     "languageId": "polyglot-notebook"
    }
   },
   "outputs": [
    {
     "name": "stdout",
     "output_type": "stream",
     "text": [
      "3\n"
     ]
    }
   ],
   "source": [
    "z[\"foo\"] |> printfn \"%A\""
   ]
  },
  {
   "cell_type": "code",
   "execution_count": 220,
   "metadata": {
    "dotnet_interactive": {
     "language": "fsharp"
    },
    "polyglot_notebook": {
     "kernelName": "fsharp"
    },
    "slideshow": {
     "slide_type": "fragment"
    },
    "vscode": {
     "languageId": "polyglot-notebook"
    }
   },
   "outputs": [
    {
     "ename": "Error",
     "evalue": "System.Collections.Generic.KeyNotFoundException: The given key was not present in the dictionary.\n   at Microsoft.FSharp.Collections.MapTreeModule.throwKeyNotFound[a]() in D:\\a\\_work\\1\\s\\src\\FSharp.Core\\map.fs:line 187\n   at Microsoft.FSharp.Collections.MapTreeModule.find[TKey,TValue](IComparer`1 comparer, TKey k, MapTree`2 m) in D:\\a\\_work\\1\\s\\src\\FSharp.Core\\map.fs:line 196\n   at Microsoft.FSharp.Collections.FSharpMap`2.get_Item(TKey key) in D:\\a\\_work\\1\\s\\src\\FSharp.Core\\map.fs:line 777\n   at <StartupCode$FSI_0225>.$FSI_0225.main@()\n   at System.RuntimeMethodHandle.InvokeMethod(Object target, Void** arguments, Signature sig, Boolean isConstructor)\n   at System.Reflection.MethodInvoker.Invoke(Object obj, IntPtr* args, BindingFlags invokeAttr)",
     "output_type": "error",
     "traceback": [
      "System.Collections.Generic.KeyNotFoundException: The given key was not present in the dictionary.\n",
      "   at Microsoft.FSharp.Collections.MapTreeModule.throwKeyNotFound[a]() in D:\\a\\_work\\1\\s\\src\\FSharp.Core\\map.fs:line 187\n",
      "   at Microsoft.FSharp.Collections.MapTreeModule.find[TKey,TValue](IComparer`1 comparer, TKey k, MapTree`2 m) in D:\\a\\_work\\1\\s\\src\\FSharp.Core\\map.fs:line 196\n",
      "   at Microsoft.FSharp.Collections.FSharpMap`2.get_Item(TKey key) in D:\\a\\_work\\1\\s\\src\\FSharp.Core\\map.fs:line 777\n",
      "   at <StartupCode$FSI_0225>.$FSI_0225.main@()\n",
      "   at System.RuntimeMethodHandle.InvokeMethod(Object target, Void** arguments, Signature sig, Boolean isConstructor)\n",
      "   at System.Reflection.MethodInvoker.Invoke(Object obj, IntPtr* args, BindingFlags invokeAttr)"
     ]
    }
   ],
   "source": [
    "z[\"foobar\"] |> printfn \"%A\""
   ]
  },
  {
   "cell_type": "code",
   "execution_count": 221,
   "metadata": {
    "dotnet_interactive": {
     "language": "fsharp"
    },
    "polyglot_notebook": {
     "kernelName": "fsharp"
    },
    "slideshow": {
     "slide_type": "subslide"
    },
    "vscode": {
     "languageId": "polyglot-notebook"
    }
   },
   "outputs": [
    {
     "name": "stdout",
     "output_type": "stream",
     "text": [
      "None\n"
     ]
    }
   ],
   "source": [
    "z |>  Map.tryFind(\"foobar\") |> printfn \"%A\""
   ]
  },
  {
   "cell_type": "code",
   "execution_count": 222,
   "metadata": {
    "dotnet_interactive": {
     "language": "fsharp"
    },
    "polyglot_notebook": {
     "kernelName": "fsharp"
    },
    "slideshow": {
     "slide_type": "fragment"
    },
    "vscode": {
     "languageId": "polyglot-notebook"
    }
   },
   "outputs": [
    {
     "name": "stdout",
     "output_type": "stream",
     "text": [
      "false\n"
     ]
    }
   ],
   "source": [
    "z |> Map.containsKey \"foobar\" |> printfn \"%A\""
   ]
  },
  {
   "cell_type": "code",
   "execution_count": 223,
   "metadata": {
    "dotnet_interactive": {
     "language": "fsharp"
    },
    "polyglot_notebook": {
     "kernelName": "fsharp"
    },
    "slideshow": {
     "slide_type": "subslide"
    },
    "vscode": {
     "languageId": "polyglot-notebook"
    }
   },
   "outputs": [
    {
     "name": "stdout",
     "output_type": "stream",
     "text": [
      "seq [\"bar\"; \"foo\"; \"tar\"]\n"
     ]
    }
   ],
   "source": [
    "z |> Map.keys |> printfn \"%A\""
   ]
  },
  {
   "cell_type": "code",
   "execution_count": 224,
   "metadata": {
    "dotnet_interactive": {
     "language": "fsharp"
    },
    "polyglot_notebook": {
     "kernelName": "fsharp"
    },
    "slideshow": {
     "slide_type": "subslide"
    },
    "vscode": {
     "languageId": "polyglot-notebook"
    }
   },
   "outputs": [
    {
     "name": "stdout",
     "output_type": "stream",
     "text": [
      "seq [-1; 3; 8]\n"
     ]
    }
   ],
   "source": [
    "z |> Map.values |> printfn \"%A\""
   ]
  },
  {
   "cell_type": "code",
   "execution_count": 225,
   "metadata": {
    "dotnet_interactive": {
     "language": "fsharp"
    },
    "polyglot_notebook": {
     "kernelName": "fsharp"
    },
    "slideshow": {
     "slide_type": "subslide"
    },
    "vscode": {
     "languageId": "polyglot-notebook"
    }
   },
   "outputs": [
    {
     "name": "stdout",
     "output_type": "stream",
     "text": [
      "map [(\"bar\", \"bar->-1\"); (\"foo\", \"foo->3\"); (\"tar\", \"tar->8\")]\n"
     ]
    }
   ],
   "source": [
    "z |> Map.map (fun k e -> $\"{k}->{e}\") |> printfn \"%A\""
   ]
  },
  {
   "cell_type": "markdown",
   "metadata": {
    "slideshow": {
     "slide_type": "slide"
    }
   },
   "source": [
    "## `Array` kontejner"
   ]
  },
  {
   "cell_type": "code",
   "execution_count": 226,
   "metadata": {
    "dotnet_interactive": {
     "language": "fsharp"
    },
    "polyglot_notebook": {
     "kernelName": "fsharp"
    },
    "slideshow": {
     "slide_type": "subslide"
    },
    "vscode": {
     "languageId": "polyglot-notebook"
    }
   },
   "outputs": [],
   "source": [
    "let t1 : int array  = [|0; 2; 4; 6; 8; 10|]"
   ]
  },
  {
   "cell_type": "code",
   "execution_count": 227,
   "metadata": {
    "dotnet_interactive": {
     "language": "fsharp"
    },
    "polyglot_notebook": {
     "kernelName": "fsharp"
    },
    "slideshow": {
     "slide_type": "fragment"
    },
    "vscode": {
     "languageId": "polyglot-notebook"
    }
   },
   "outputs": [],
   "source": [
    "let t2 = [|0..2..10|]"
   ]
  },
  {
   "cell_type": "code",
   "execution_count": 228,
   "metadata": {
    "dotnet_interactive": {
     "language": "fsharp"
    },
    "polyglot_notebook": {
     "kernelName": "fsharp"
    },
    "slideshow": {
     "slide_type": "fragment"
    },
    "vscode": {
     "languageId": "polyglot-notebook"
    }
   },
   "outputs": [],
   "source": [
    "let t3 = [| for i in 0..10 do \n",
    "             if i % 2 = 0 then i \n",
    "         |]"
   ]
  },
  {
   "cell_type": "code",
   "execution_count": 229,
   "metadata": {
    "dotnet_interactive": {
     "language": "fsharp"
    },
    "polyglot_notebook": {
     "kernelName": "fsharp"
    },
    "slideshow": {
     "slide_type": "fragment"
    },
    "vscode": {
     "languageId": "polyglot-notebook"
    }
   },
   "outputs": [],
   "source": [
    "let t4 = Array.init 6 (fun i -> i*2) "
   ]
  },
  {
   "cell_type": "code",
   "execution_count": 230,
   "metadata": {
    "dotnet_interactive": {
     "language": "fsharp"
    },
    "polyglot_notebook": {
     "kernelName": "fsharp"
    },
    "slideshow": {
     "slide_type": "fragment"
    },
    "vscode": {
     "languageId": "polyglot-notebook"
    }
   },
   "outputs": [
    {
     "data": {
      "text/html": [
       "<div class=\"dni-plaintext\"><pre>True</pre></div><style>\r\n",
       ".dni-code-hint {\r\n",
       "    font-style: italic;\r\n",
       "    overflow: hidden;\r\n",
       "    white-space: nowrap;\r\n",
       "}\r\n",
       ".dni-treeview {\r\n",
       "    white-space: nowrap;\r\n",
       "}\r\n",
       ".dni-treeview td {\r\n",
       "    vertical-align: top;\r\n",
       "    text-align: start;\r\n",
       "}\r\n",
       "details.dni-treeview {\r\n",
       "    padding-left: 1em;\r\n",
       "}\r\n",
       "table td {\r\n",
       "    text-align: start;\r\n",
       "}\r\n",
       "table tr { \r\n",
       "    vertical-align: top; \r\n",
       "    margin: 0em 0px;\r\n",
       "}\r\n",
       "table tr td pre \r\n",
       "{ \r\n",
       "    vertical-align: top !important; \r\n",
       "    margin: 0em 0px !important;\r\n",
       "} \r\n",
       "table th {\r\n",
       "    text-align: start;\r\n",
       "}\r\n",
       "</style>"
      ]
     },
     "metadata": {},
     "output_type": "display_data"
    }
   ],
   "source": [
    "t1 = t2 && t2 = t3 && t3 = t4 "
   ]
  },
  {
   "cell_type": "code",
   "execution_count": 231,
   "metadata": {
    "dotnet_interactive": {
     "language": "fsharp"
    },
    "polyglot_notebook": {
     "kernelName": "fsharp"
    },
    "slideshow": {
     "slide_type": "subslide"
    },
    "vscode": {
     "languageId": "polyglot-notebook"
    }
   },
   "outputs": [],
   "source": [
    "let foo l = \n",
    "  match l with\n",
    "  | [||] -> \"Prazan\"\n",
    "  | [|_; b|] -> $\"{b}\"\n",
    "  | [|a; b; c|] -> $\"{a + b + c}\"\n",
    "  | x -> $\"Svi: {x}\""
   ]
  },
  {
   "cell_type": "code",
   "execution_count": 232,
   "metadata": {
    "dotnet_interactive": {
     "language": "fsharp"
    },
    "polyglot_notebook": {
     "kernelName": "fsharp"
    },
    "slideshow": {
     "slide_type": "subslide"
    },
    "vscode": {
     "languageId": "polyglot-notebook"
    }
   },
   "outputs": [
    {
     "name": "stdout",
     "output_type": "stream",
     "text": [
      "\"3\"\n",
      "Svi: System.Int32[]\n"
     ]
    }
   ],
   "source": [
    "[|0..2|] |> foo |> printfn \"%A\"\n",
    "[|3|] |> foo |> printfn \"%O\""
   ]
  },
  {
   "cell_type": "code",
   "execution_count": 233,
   "metadata": {
    "dotnet_interactive": {
     "language": "fsharp"
    },
    "polyglot_notebook": {
     "kernelName": "fsharp"
    },
    "slideshow": {
     "slide_type": "subslide"
    },
    "vscode": {
     "languageId": "polyglot-notebook"
    }
   },
   "outputs": [
    {
     "name": "stdout",
     "output_type": "stream",
     "text": [
      "[|0; 2; 4|]\n",
      "[|0; 2; 25|]\n"
     ]
    },
    {
     "ename": "Error",
     "evalue": "System.IndexOutOfRangeException: Index was outside the bounds of the array.\n   at <StartupCode$FSI_0238>.$FSI_0238.main@()\n   at System.RuntimeMethodHandle.InvokeMethod(Object target, Void** arguments, Signature sig, Boolean isConstructor)\n   at System.Reflection.MethodInvoker.Invoke(Object obj, IntPtr* args, BindingFlags invokeAttr)",
     "output_type": "error",
     "traceback": [
      "System.IndexOutOfRangeException: Index was outside the bounds of the array.\n",
      "   at <StartupCode$FSI_0238>.$FSI_0238.main@()\n",
      "   at System.RuntimeMethodHandle.InvokeMethod(Object target, Void** arguments, Signature sig, Boolean isConstructor)\n",
      "   at System.Reflection.MethodInvoker.Invoke(Object obj, IntPtr* args, BindingFlags invokeAttr)"
     ]
    }
   ],
   "source": [
    "let t1  = [|0; 2; 4; 6; 8; 10|]\n",
    "t1[..2] |> printfn \"%A\"\n",
    "t1[2] <- 25\n",
    "t1[..2] |> printfn \"%A\"\n",
    "t1[15]"
   ]
  },
  {
   "cell_type": "code",
   "execution_count": 234,
   "metadata": {
    "dotnet_interactive": {
     "language": "fsharp"
    },
    "polyglot_notebook": {
     "kernelName": "fsharp"
    },
    "slideshow": {
     "slide_type": "subslide"
    },
    "vscode": {
     "languageId": "polyglot-notebook"
    }
   },
   "outputs": [
    {
     "data": {
      "text/html": [
       "<div class=\"dni-plaintext\"><pre>[ 2, 3, 0, 2, 4, 6, 8, 10 ]</pre></div><style>\r\n",
       ".dni-code-hint {\r\n",
       "    font-style: italic;\r\n",
       "    overflow: hidden;\r\n",
       "    white-space: nowrap;\r\n",
       "}\r\n",
       ".dni-treeview {\r\n",
       "    white-space: nowrap;\r\n",
       "}\r\n",
       ".dni-treeview td {\r\n",
       "    vertical-align: top;\r\n",
       "    text-align: start;\r\n",
       "}\r\n",
       "details.dni-treeview {\r\n",
       "    padding-left: 1em;\r\n",
       "}\r\n",
       "table td {\r\n",
       "    text-align: start;\r\n",
       "}\r\n",
       "table tr { \r\n",
       "    vertical-align: top; \r\n",
       "    margin: 0em 0px;\r\n",
       "}\r\n",
       "table tr td pre \r\n",
       "{ \r\n",
       "    vertical-align: top !important; \r\n",
       "    margin: 0em 0px !important;\r\n",
       "} \r\n",
       "table th {\r\n",
       "    text-align: start;\r\n",
       "}\r\n",
       "</style>"
      ]
     },
     "metadata": {},
     "output_type": "display_data"
    }
   ],
   "source": [
    "let t1  = [|0; 2; 4; 6; 8; 10|]\n",
    "t1 |> Array.append [|2;3|]"
   ]
  },
  {
   "cell_type": "code",
   "execution_count": 235,
   "metadata": {
    "dotnet_interactive": {
     "language": "fsharp"
    },
    "polyglot_notebook": {
     "kernelName": "fsharp"
    },
    "slideshow": {
     "slide_type": "subslide"
    },
    "vscode": {
     "languageId": "polyglot-notebook"
    }
   },
   "outputs": [
    {
     "name": "stdout",
     "output_type": "stream",
     "text": [
      "30\n"
     ]
    }
   ],
   "source": [
    "t1 |> Array.fold (+) 0 |> printfn \"%A\""
   ]
  },
  {
   "cell_type": "markdown",
   "metadata": {
    "slideshow": {
     "slide_type": "slide"
    }
   },
   "source": [
    "## `seq` kontejner"
   ]
  },
  {
   "cell_type": "code",
   "execution_count": 236,
   "metadata": {
    "dotnet_interactive": {
     "language": "fsharp"
    },
    "polyglot_notebook": {
     "kernelName": "fsharp"
    },
    "slideshow": {
     "slide_type": "subslide"
    },
    "vscode": {
     "languageId": "polyglot-notebook"
    }
   },
   "outputs": [],
   "source": [
    "let s1 : int seq  = [0; 2; 4; 6; 8; 10] |> Seq.ofList"
   ]
  },
  {
   "cell_type": "code",
   "execution_count": 237,
   "metadata": {
    "dotnet_interactive": {
     "language": "fsharp"
    },
    "polyglot_notebook": {
     "kernelName": "fsharp"
    },
    "slideshow": {
     "slide_type": "fragment"
    },
    "vscode": {
     "languageId": "polyglot-notebook"
    }
   },
   "outputs": [],
   "source": [
    "let s2 = {0..2..10}"
   ]
  },
  {
   "cell_type": "code",
   "execution_count": 238,
   "metadata": {
    "dotnet_interactive": {
     "language": "fsharp"
    },
    "polyglot_notebook": {
     "kernelName": "fsharp"
    },
    "slideshow": {
     "slide_type": "fragment"
    },
    "vscode": {
     "languageId": "polyglot-notebook"
    }
   },
   "outputs": [],
   "source": [
    "let s3 = seq { for i in 0..10 do \n",
    "                 if i % 2 = 0 then i \n",
    "             }"
   ]
  },
  {
   "cell_type": "code",
   "execution_count": 239,
   "metadata": {
    "dotnet_interactive": {
     "language": "fsharp"
    },
    "polyglot_notebook": {
     "kernelName": "fsharp"
    },
    "slideshow": {
     "slide_type": "fragment"
    },
    "vscode": {
     "languageId": "polyglot-notebook"
    }
   },
   "outputs": [],
   "source": [
    "let s4 = Seq.init 6 (fun i -> i*2) "
   ]
  },
  {
   "cell_type": "code",
   "execution_count": 240,
   "metadata": {
    "dotnet_interactive": {
     "language": "fsharp"
    },
    "polyglot_notebook": {
     "kernelName": "fsharp"
    },
    "slideshow": {
     "slide_type": "fragment"
    },
    "vscode": {
     "languageId": "polyglot-notebook"
    }
   },
   "outputs": [
    {
     "name": "stdout",
     "output_type": "stream",
     "text": [
      "[0; 2; 4; 6; 8; 10]\n",
      "[0; 2; 4; 6; 8; 10]\n",
      "[0; 2; 4; 6; 8; 10]\n",
      "[0; 2; 4; 6; 8; 10]\n"
     ]
    }
   ],
   "source": [
    "s1 |> List.ofSeq |> printfn \"%A\"\n",
    "s2 |> List.ofSeq |> printfn \"%A\"\n",
    "s3 |> Seq.toList |> printfn \"%A\"\n",
    "s4 |> List.ofSeq |> printfn \"%A\""
   ]
  },
  {
   "cell_type": "code",
   "execution_count": 241,
   "metadata": {
    "dotnet_interactive": {
     "language": "fsharp"
    },
    "polyglot_notebook": {
     "kernelName": "fsharp"
    },
    "slideshow": {
     "slide_type": "subslide"
    },
    "vscode": {
     "languageId": "polyglot-notebook"
    }
   },
   "outputs": [
    {
     "name": "stdout",
     "output_type": "stream",
     "text": [
      "seq [3; 2; 5; 4]\n"
     ]
    }
   ],
   "source": [
    "let s5 = seq { \n",
    "    yield 5\n",
    "    yield 4\n",
    "}\n",
    "let s6 = seq {\n",
    "    yield 3\n",
    "    yield 2\n",
    "    yield! s5\n",
    "}\n",
    "s6 |> printfn \"%A\"\n"
   ]
  },
  {
   "cell_type": "code",
   "execution_count": 242,
   "metadata": {
    "dotnet_interactive": {
     "language": "fsharp"
    },
    "polyglot_notebook": {
     "kernelName": "fsharp"
    },
    "slideshow": {
     "slide_type": "subslide"
    },
    "vscode": {
     "languageId": "polyglot-notebook"
    }
   },
   "outputs": [
    {
     "name": "stdout",
     "output_type": "stream",
     "text": [
      "foo\n"
     ]
    }
   ],
   "source": [
    "let s5 = seq {1 .. 10000000}\n",
    "s5 |> Seq.iter (fun e -> if e = 25000 then printfn \"foo\" else ())\n"
   ]
  },
  {
   "cell_type": "code",
   "execution_count": 243,
   "metadata": {
    "dotnet_interactive": {
     "language": "fsharp"
    },
    "polyglot_notebook": {
     "kernelName": "fsharp"
    },
    "slideshow": {
     "slide_type": "subslide"
    },
    "vscode": {
     "languageId": "polyglot-notebook"
    }
   },
   "outputs": [
    {
     "name": "stdout",
     "output_type": "stream",
     "text": [
      "[|1411; 10942; 11080; 17915; 34845; 58296; 64388; 87020; 90268; 99309|]\n"
     ]
    }
   ],
   "source": [
    "let rand = System.Random()\n",
    "\n",
    "let randomNumbers = \n",
    "  seq { while true do \n",
    "          yield rand.Next(100000) \n",
    "      }\n",
    "\n",
    "let foo = \n",
    "  randomNumbers\n",
    "  |> Seq.truncate 10\n",
    "  |> Seq.sort\n",
    "  |> Seq.toArray\n",
    "  |> printfn \"%A\"\n"
   ]
  },
  {
   "cell_type": "code",
   "execution_count": 244,
   "metadata": {
    "dotnet_interactive": {
     "language": "fsharp"
    },
    "polyglot_notebook": {
     "kernelName": "fsharp"
    },
    "slideshow": {
     "slide_type": "subslide"
    },
    "vscode": {
     "languageId": "polyglot-notebook"
    }
   },
   "outputs": [
    {
     "name": "stdout",
     "output_type": "stream",
     "text": [
      "      decembar 2023\n",
      "pet   1  8 15 22 29\n",
      "sub   2  9 16 23 30\n",
      "ned   3 10 17 24 31\n",
      "pon   4 11 18 25\n",
      "uto   5 12 19 26\n",
      "sri   6 13 20 27\n",
      "čet   7 14 21 28\n"
     ]
    }
   ],
   "source": [
    "open System\n",
    "open System.Globalization\n",
    "\n",
    "let rec fromDate (from : DateTime) = seq {\n",
    "    yield from\n",
    "    yield! (from.AddDays 1 |> fromDate)\n",
    "}\n",
    "\n",
    "let allDates = DateTime.MinValue |> fromDate\n",
    "\n",
    "let groupDatesByWeekDays (someDate : DateTime) = \n",
    "  allDates\n",
    "  |> Seq.skipWhile \n",
    "    (fun d -> d.Date < DateTime(someDate.Year, someDate.Month, 1))\n",
    "  |> Seq.takeWhile\n",
    "    (fun d -> d.Month = someDate.Month)\n",
    "  |> Seq.groupBy \n",
    "    (fun (d : DateTime) -> d.ToString(\"ddd\", CultureInfo(\"bs-BA\")))\n",
    "\n",
    "let printDay (someDate : DateTime) shouldInvertColor =\n",
    "  let fc = ConsoleColor.White\n",
    "  let bc = ConsoleColor.Black\n",
    "  if shouldInvertColor then\n",
    "    Console.ForegroundColor <- bc\n",
    "    Console.BackgroundColor <- fc\n",
    "    printf \"%3d\" someDate.Day\n",
    "  else\n",
    "    Console.ForegroundColor <- fc\n",
    "    Console.BackgroundColor <- bc\n",
    "    printf \"%3d\" someDate.Day\n",
    "  Console.ResetColor()\n",
    "\n",
    "let printEntireMonth (someDate : DateTime) =\n",
    "  someDate.ToString(\"MMMM yyyy\", CultureInfo(\"bs-BA\"))  \n",
    "  |> printfn \"%19s\" \n",
    "  seq {\n",
    "    let groupedDates = groupDatesByWeekDays someDate \n",
    "    for (weekDay, wdDates) in groupedDates do\n",
    "      weekDay |> printf \"%s \" \n",
    "      for day in wdDates do \n",
    "        if day = someDate then\n",
    "          printDay day true\n",
    "        else\n",
    "          printDay day false\n",
    "      printf \"\\n\"\n",
    "  } \n",
    "\n",
    "DateTime.Today |> printEntireMonth"
   ]
  },
  {
   "cell_type": "code",
   "execution_count": 245,
   "metadata": {
    "dotnet_interactive": {
     "language": "fsharp"
    },
    "polyglot_notebook": {
     "kernelName": "fsharp"
    },
    "slideshow": {
     "slide_type": "subslide"
    },
    "vscode": {
     "languageId": "polyglot-notebook"
    }
   },
   "outputs": [],
   "source": [
    "let altFromDate (from : DateTime) = seq {\n",
    "    let mutable cDate = from\n",
    "    while cDate < DateTime.MaxValue do\n",
    "      yield cDate\n",
    "      cDate <- cDate.AddDays(1)\n",
    "}"
   ]
  }
 ],
 "metadata": {
  "kernelspec": {
   "display_name": ".NET (C#)",
   "language": "C#",
   "name": ".net-csharp"
  },
  "language_info": {
   "name": "fsharp"
  },
  "orig_nbformat": 4,
  "polyglot_notebook": {
   "kernelInfo": {
    "defaultKernelName": "csharp",
    "items": [
     {
      "aliases": [],
      "name": "csharp"
     }
    ]
   }
  }
 },
 "nbformat": 4,
 "nbformat_minor": 2
}
